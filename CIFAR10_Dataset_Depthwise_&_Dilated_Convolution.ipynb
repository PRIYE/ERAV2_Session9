{
  "cells": [
    {
      "cell_type": "code",
      "source": [
        "#!pip install albumentations==0.4.6"
      ],
      "metadata": {
        "id": "Zc-ZfGuuwN90"
      },
      "execution_count": null,
      "outputs": []
    },
    {
      "cell_type": "code",
      "execution_count": 1,
      "metadata": {
        "id": "0m2JWFliFfKT"
      },
      "outputs": [],
      "source": [
        "from __future__ import print_function\n",
        "import torch\n",
        "import torch.nn as nn\n",
        "import torch.nn.functional as F\n",
        "import torch.optim as optim\n",
        "from torchvision import datasets, transforms\n",
        "from torch.optim.lr_scheduler import StepLR\n",
        "import albumentations as A\n",
        "from albumentations.pytorch import ToTensorV2\n",
        "import os\n",
        "os.environ['KMP_DUPLICATE_LIB_OK']='True'\n",
        "import cv2\n",
        "cv2.setNumThreads(0)\n",
        "cv2.ocl.setUseOpenCL(False)"
      ]
    },
    {
      "cell_type": "code",
      "execution_count": 2,
      "metadata": {
        "id": "FDI0WC3dRr3d",
        "colab": {
          "base_uri": "https://localhost:8080/"
        },
        "outputId": "1ba88ee7-c610-47c6-e241-05fdb5b53c2f"
      },
      "outputs": [
        {
          "output_type": "stream",
          "name": "stdout",
          "text": [
            "Mounted at /content/drive\n"
          ]
        }
      ],
      "source": [
        "from google.colab import drive\n",
        "drive.mount('/content/drive')"
      ]
    },
    {
      "cell_type": "code",
      "execution_count": 3,
      "metadata": {
        "colab": {
          "base_uri": "https://localhost:8080/"
        },
        "id": "BAr9TCoO_eU9",
        "outputId": "ffa0422b-b568-41ab-ec29-66a90f40fbd8"
      },
      "outputs": [
        {
          "output_type": "stream",
          "name": "stdout",
          "text": [
            "CUDA Available? True Albumentations version 1.3.1\n"
          ]
        }
      ],
      "source": [
        "# CUDA?\n",
        "cuda = torch.cuda.is_available()\n",
        "print(\"CUDA Available?\", cuda, 'Albumentations version', A.__version__)"
      ]
    },
    {
      "cell_type": "code",
      "source": [
        "import os\n",
        "import sys\n",
        "sys.path.insert(0,'/content/drive/MyDrive/ERAV2/Assignment9')\n",
        "%cd /content/drive/MyDrive/ERAV2/Assignment9\n",
        "%pwd"
      ],
      "metadata": {
        "colab": {
          "base_uri": "https://localhost:8080/",
          "height": 53
        },
        "id": "esgkQcGH5z3I",
        "outputId": "034e810f-dfe0-486e-c3fa-12165704637c"
      },
      "execution_count": 6,
      "outputs": [
        {
          "output_type": "stream",
          "name": "stdout",
          "text": [
            "/content/drive/MyDrive/ERAV2/Assignment9\n"
          ]
        },
        {
          "output_type": "execute_result",
          "data": {
            "text/plain": [
              "'/content/drive/MyDrive/ERAV2/Assignment9'"
            ],
            "application/vnd.google.colaboratory.intrinsic+json": {
              "type": "string"
            }
          },
          "metadata": {},
          "execution_count": 6
        }
      ]
    },
    {
      "cell_type": "code",
      "source": [
        "from model import Dilated_Net\n",
        "from utils import plot_performance"
      ],
      "metadata": {
        "id": "KU3LKD3lRzS3"
      },
      "execution_count": 7,
      "outputs": []
    },
    {
      "cell_type": "code",
      "execution_count": 8,
      "metadata": {
        "id": "nkdpZXOsAeWW"
      },
      "outputs": [],
      "source": [
        "# Train Phase transformations\n",
        "train_transforms = A.Compose([\n",
        "                      A.HorizontalFlip(p=0.2),\n",
        "                      A.ShiftScaleRotate(shift_limit=0.05, scale_limit=0.05, rotate_limit=15, p=0.5),\n",
        "                      A.CoarseDropout(max_holes = 1, max_height=16, max_width=16, min_holes = 1, min_height=16, min_width=16\n",
        "                                      , fill_value=(0.49139968, 0.48215841, 0.44653091),mask_fill_value = None),\n",
        "                      A.ColorJitter(brightness=0.10, contrast=0.1, saturation=0.10, hue=0.1, p=0.2),\n",
        "                      A.Normalize((0.49139968, 0.48215841, 0.44653091), (0.24703223, 0.24348513, 0.26158784)),\n",
        "                      ToTensorV2()\n",
        "                              ])\n",
        "\n",
        "# Test Phase transformations\n",
        "test_transforms = A.Compose([\n",
        "                    A.Normalize((0.49139968, 0.48215841, 0.44653091), (0.24703223, 0.24348513, 0.26158784)),\n",
        "                    ToTensorV2()\n",
        "                          ])"
      ]
    },
    {
      "cell_type": "code",
      "source": [
        "class Albumentations_CIFAR10(datasets.CIFAR10):\n",
        "  def __init__(self, root=\"../data\", train=True, download=True, transform=None):\n",
        "    super().__init__( root=root, train=train, download=download, transform=transform)\n",
        "\n",
        "  def __getitem__(self, index):\n",
        "    image, label = self.data[index], self.targets[index]\n",
        "\n",
        "    if self.transform is not None:\n",
        "      transformed = self.transform(image=image)\n",
        "      image = transformed[\"image\"]\n",
        "    return image, label"
      ],
      "metadata": {
        "id": "3AGqxVUwmEY_"
      },
      "execution_count": 9,
      "outputs": []
    },
    {
      "cell_type": "code",
      "execution_count": 10,
      "metadata": {
        "colab": {
          "base_uri": "https://localhost:8080/"
        },
        "id": "L46SFApHAiy9",
        "outputId": "1d85832c-b787-4076-a050-6c842e08fca1"
      },
      "outputs": [
        {
          "output_type": "stream",
          "name": "stdout",
          "text": [
            "Files already downloaded and verified\n",
            "Files already downloaded and verified\n"
          ]
        }
      ],
      "source": [
        "train = Albumentations_CIFAR10('../data', train=True, download=True, transform=train_transforms)\n",
        "test = Albumentations_CIFAR10('../data', train=False, download=True, transform=test_transforms)\n",
        "classes = ('plane', 'car', 'bird', 'cat',\n",
        "           'deer', 'dog', 'frog', 'horse', 'ship', 'truck')"
      ]
    },
    {
      "cell_type": "code",
      "execution_count": 11,
      "metadata": {
        "colab": {
          "base_uri": "https://localhost:8080/"
        },
        "id": "URzT2k3mpM-V",
        "outputId": "85212faf-3291-48e3-8307-563708c29b60"
      },
      "outputs": [
        {
          "output_type": "stream",
          "name": "stdout",
          "text": [
            "CUDA Available? True\n"
          ]
        },
        {
          "output_type": "stream",
          "name": "stderr",
          "text": [
            "/usr/local/lib/python3.10/dist-packages/torch/utils/data/dataloader.py:558: UserWarning: This DataLoader will create 4 worker processes in total. Our suggested max number of worker in current system is 2, which is smaller than what this DataLoader is going to create. Please be aware that excessive worker creation might get DataLoader running slow or even freeze, lower the worker number to avoid potential slowness/freeze if necessary.\n",
            "  warnings.warn(_create_warning_msg(\n"
          ]
        }
      ],
      "source": [
        "SEED = 1\n",
        "\n",
        "# CUDA?\n",
        "cuda = torch.cuda.is_available()\n",
        "print(\"CUDA Available?\", cuda)\n",
        "\n",
        "# For reproducibility\n",
        "torch.manual_seed(SEED)\n",
        "\n",
        "if cuda:\n",
        "    torch.cuda.manual_seed(SEED)\n",
        "\n",
        "# dataloader arguments - something you'll fetch these from cmdprmt\n",
        "dataloader_args = dict(shuffle=True, batch_size=512, num_workers=4, pin_memory=True) if cuda else dict(shuffle=True, batch_size=64)\n",
        "\n",
        "# train dataloader\n",
        "train_loader = torch.utils.data.DataLoader(train, **dataloader_args)\n",
        "\n",
        "# test dataloader\n",
        "test_loader = torch.utils.data.DataLoader(test, **dataloader_args)"
      ]
    },
    {
      "cell_type": "code",
      "execution_count": 12,
      "metadata": {
        "colab": {
          "base_uri": "https://localhost:8080/"
        },
        "id": "kulBqYHFuU_R",
        "outputId": "733fc41d-5693-4f03-9e4e-a87f865f6359"
      },
      "outputs": [
        {
          "output_type": "stream",
          "name": "stdout",
          "text": [
            "[Train]\n",
            " - Numpy Shape: (50000, 32, 32, 3)\n",
            " - Tensor Shape: torch.Size([50000, 32, 32, 3])\n",
            " - min: tensor(0., dtype=torch.float64)\n",
            " - max: tensor(1., dtype=torch.float64)\n",
            " - mean: [0.49139968 0.48215841 0.44653091]\n",
            " - std: [0.24703223 0.24348513 0.26158784]\n",
            "torch.Size([512, 3, 32, 32])\n",
            "torch.Size([512])\n"
          ]
        }
      ],
      "source": [
        "# We'd need to convert it into Numpy! Remember above we have converted it into tensors already\n",
        "#train_data = train.train_data\n",
        "train_data = train.data/255\n",
        "\n",
        "print('[Train]')\n",
        "print(' - Numpy Shape:', train.data.shape)\n",
        "print(' - Tensor Shape:', torch.tensor(train.data).size())\n",
        "print(' - min:', torch.min(torch.tensor(train_data)))\n",
        "print(' - max:', torch.max(torch.tensor(train_data)))\n",
        "print(' - mean:', train_data.mean(axis = (0,1,2)))\n",
        "print(' - std:', train_data.std(axis = (0,1,2)))\n",
        "\n",
        "dataiter = iter(train_loader)\n",
        "images, labels = next(dataiter)\n",
        "\n",
        "print(images.shape)\n",
        "print(labels.shape)\n"
      ]
    },
    {
      "cell_type": "code",
      "source": [
        "import matplotlib.pyplot as plt\n",
        "import numpy as np\n",
        "batch_data, batch_label = next(iter(train_loader))\n",
        "fig = plt.figure()\n",
        "classes = ('plane', 'car', 'bird', 'cat',\n",
        "           'deer', 'dog', 'frog', 'horse', 'ship', 'truck')\n",
        "for i in range(12):\n",
        "    plt.subplot(3,4,i+1)\n",
        "    plt.tight_layout()\n",
        "    plt.imshow(np.transpose(batch_data[i].numpy(), (2, 1, 0)), cmap='gray')\n",
        "    plt.title(f'{classes[batch_label[i].item()]}')\n",
        "    plt.xticks([])\n",
        "    plt.yticks([])\n",
        "plt.show()"
      ],
      "metadata": {
        "colab": {
          "base_uri": "https://localhost:8080/",
          "height": 677
        },
        "id": "MHvxN6LmxIOg",
        "outputId": "aec69115-7f96-4946-a995-52c1ef597efc"
      },
      "execution_count": 13,
      "outputs": [
        {
          "output_type": "stream",
          "name": "stderr",
          "text": [
            "WARNING:matplotlib.image:Clipping input data to the valid range for imshow with RGB data ([0..1] for floats or [0..255] for integers).\n",
            "WARNING:matplotlib.image:Clipping input data to the valid range for imshow with RGB data ([0..1] for floats or [0..255] for integers).\n",
            "WARNING:matplotlib.image:Clipping input data to the valid range for imshow with RGB data ([0..1] for floats or [0..255] for integers).\n",
            "WARNING:matplotlib.image:Clipping input data to the valid range for imshow with RGB data ([0..1] for floats or [0..255] for integers).\n",
            "WARNING:matplotlib.image:Clipping input data to the valid range for imshow with RGB data ([0..1] for floats or [0..255] for integers).\n",
            "WARNING:matplotlib.image:Clipping input data to the valid range for imshow with RGB data ([0..1] for floats or [0..255] for integers).\n",
            "WARNING:matplotlib.image:Clipping input data to the valid range for imshow with RGB data ([0..1] for floats or [0..255] for integers).\n",
            "WARNING:matplotlib.image:Clipping input data to the valid range for imshow with RGB data ([0..1] for floats or [0..255] for integers).\n",
            "WARNING:matplotlib.image:Clipping input data to the valid range for imshow with RGB data ([0..1] for floats or [0..255] for integers).\n",
            "WARNING:matplotlib.image:Clipping input data to the valid range for imshow with RGB data ([0..1] for floats or [0..255] for integers).\n",
            "WARNING:matplotlib.image:Clipping input data to the valid range for imshow with RGB data ([0..1] for floats or [0..255] for integers).\n",
            "WARNING:matplotlib.image:Clipping input data to the valid range for imshow with RGB data ([0..1] for floats or [0..255] for integers).\n"
          ]
        },
        {
          "output_type": "display_data",
          "data": {
            "text/plain": [
              "<Figure size 640x480 with 12 Axes>"
            ],
            "image/png": "[encoded data removed]"
          },
          "metadata": {}
        }
      ]
    },
    {
      "cell_type": "code",
      "source": [
        "def calc_activation_shape(dim, ksize, dilation=(1, 1), stride=(1, 1), padding=(0, 0)):\n",
        "  def shape_each_dim(i):\n",
        "    odim_i = dim[i] + 2 * padding[i] - dilation[i] * (ksize[i] - 1) - 1\n",
        "    return (odim_i / stride[i]) + 1\n",
        "  return shape_each_dim(0), shape_each_dim(1)\n",
        "\n",
        "def calc_receptive_field(Rin,ksize, stride, Jin, dilation=1):\n",
        "    new_k = dilation*(ksize - 1) + 1\n",
        "    #if dilation>1:\n",
        "    Jnew = Jin*stride\n",
        "    #else:\n",
        "    #Jnew = stride*Jin\n",
        "    return Rin + (new_k-1)*Jin, Jnew"
      ],
      "metadata": {
        "id": "yyKxcUN59BV0"
      },
      "execution_count": 14,
      "outputs": []
    },
    {
      "cell_type": "code",
      "source": [
        "print('******** Block 1 **********')\n",
        "output_channel_size = calc_activation_shape(dim=(32,32), ksize=(7,7), dilation=(1, 1), stride=(1, 1), padding=(1, 1))\n",
        "print(f'Output Channel size {output_channel_size}')\n",
        "output_receptive_field, Jnew = calc_receptive_field(Rin=1 ,ksize=7, stride=1, Jin=1, dilation=1)\n",
        "print('Receptive Field', output_receptive_field)\n",
        "\n",
        "output_channel_size = calc_activation_shape(dim=output_channel_size, ksize=(5,5), dilation=(1, 1), stride=(1, 1), padding=(1, 1))\n",
        "print(f'Output Channel size {output_channel_size}')\n",
        "output_receptive_field, Jnew = calc_receptive_field(Rin=output_receptive_field ,ksize=5, stride=1,Jin=Jnew, dilation=1)\n",
        "print('Receptive Field', output_receptive_field)\n",
        "\n",
        "output_channel_size = calc_activation_shape(dim=output_channel_size, ksize=(3,3), dilation=(2, 2), stride=(1, 1), padding=(1, 1))\n",
        "print(f'Output Channel size {output_channel_size}')\n",
        "output_receptive_field, Jnew = calc_receptive_field(Rin=output_receptive_field ,ksize=3, stride=1, Jin=Jnew, dilation=2)\n",
        "print('Receptive Field', output_receptive_field)\n",
        "\n",
        "print('******** Block 2 **********', f'Jin {Jnew}')\n",
        "output_channel_size = calc_activation_shape(dim=output_channel_size, ksize=(3,3), dilation=(1, 1), stride=(1, 1), padding=(1, 1))\n",
        "print(f'Output Channel size {output_channel_size}')\n",
        "output_receptive_field, Jnew = calc_receptive_field(Rin=output_receptive_field ,ksize=3, stride=1,Jin=Jnew, dilation=1)\n",
        "print('Receptive Field', output_receptive_field)\n",
        "\n",
        "output_channel_size = calc_activation_shape(dim=output_channel_size, ksize=(1,1), dilation=(1, 1), stride=(1, 1), padding=(1, 1))\n",
        "print(f'Output Channel size {output_channel_size}')\n",
        "output_receptive_field, Jnew = calc_receptive_field(Rin=output_receptive_field ,ksize=1, stride=1, Jin=Jnew, dilation=1)\n",
        "print('Receptive Field', output_receptive_field)\n",
        "\n",
        "output_channel_size = calc_activation_shape(dim=output_channel_size, ksize=(3,3), dilation=(4, 4), stride=(1, 1), padding=(1, 1))\n",
        "print(f'Output Channel size {output_channel_size}')\n",
        "output_receptive_field, Jnew = calc_receptive_field(Rin=output_receptive_field ,ksize=3, stride=1, Jin=Jnew, dilation=4)\n",
        "print('Receptive Field', output_receptive_field)\n",
        "\n",
        "print('******** Block 3 **********', f'Jin {Jnew}')\n",
        "output_channel_size = calc_activation_shape(dim=output_channel_size, ksize=(3,3), dilation=(1, 1), stride=(1, 1), padding=(1, 1))\n",
        "print(f'Output Channel size {output_channel_size}')\n",
        "output_receptive_field, Jnew = calc_receptive_field(Rin=output_receptive_field ,ksize=3, stride=1,Jin=Jnew, dilation=1)\n",
        "print('Receptive Field', output_receptive_field)\n",
        "\n",
        "output_channel_size = calc_activation_shape(dim=output_channel_size, ksize=(1,1), dilation=(1, 1), stride=(1, 1), padding=(1, 1))\n",
        "print(f'Output Channel size {output_channel_size}')\n",
        "output_receptive_field, Jnew = calc_receptive_field(Rin=output_receptive_field ,ksize=1, stride=1, Jin=Jnew, dilation=1)\n",
        "print('Receptive Field', output_receptive_field)\n",
        "\n",
        "output_channel_size = calc_activation_shape(dim=output_channel_size, ksize=(3,3), dilation=(8, 8), stride=(1, 1), padding=(1, 1))\n",
        "print(f'Output Channel size {output_channel_size}')\n",
        "output_receptive_field, Jnew = calc_receptive_field(Rin=output_receptive_field ,ksize=3, stride=1, Jin=Jnew, dilation=8)\n",
        "print('Receptive Field', output_receptive_field)\n",
        "\n",
        "print('******** Block 4 **********', f'Jin {Jnew}')\n",
        "output_channel_size = calc_activation_shape(dim=output_channel_size, ksize=(3,3), dilation=(1, 1), stride=(1, 1), padding=(1, 1))\n",
        "print(f'Output Channel size {output_channel_size}')\n",
        "output_receptive_field, Jnew = calc_receptive_field(Rin=output_receptive_field ,ksize=3, stride=1,Jin=Jnew, dilation=1)\n",
        "print('Receptive Field', output_receptive_field)\n",
        "\n",
        "output_channel_size = calc_activation_shape(dim=output_channel_size, ksize=(1,1), dilation=(1, 1), stride=(1, 1), padding=(1, 1))\n",
        "print(f'Output Channel size {output_channel_size}')\n",
        "output_receptive_field, Jnew = calc_receptive_field(Rin=output_receptive_field ,ksize=1, stride=1, Jin=Jnew, dilation=1)\n",
        "print('Receptive Field', output_receptive_field)\n"
      ],
      "metadata": {
        "colab": {
          "base_uri": "https://localhost:8080/"
        },
        "id": "AS84Ja4S9Wf5",
        "outputId": "efc72b43-d3b9-4c42-9f0a-cc754207b7f2"
      },
      "execution_count": 58,
      "outputs": [
        {
          "output_type": "stream",
          "name": "stdout",
          "text": [
            "******** Block 1 **********\n",
            "Output Channel size (28.0, 28.0)\n",
            "Receptive Field 7\n",
            "Output Channel size (26.0, 26.0)\n",
            "Receptive Field 11\n",
            "Output Channel size (24.0, 24.0)\n",
            "Receptive Field 15\n",
            "******** Block 2 ********** Jin 1\n",
            "Output Channel size (24.0, 24.0)\n",
            "Receptive Field 17\n",
            "Output Channel size (26.0, 26.0)\n",
            "Receptive Field 17\n",
            "Output Channel size (20.0, 20.0)\n",
            "Receptive Field 25\n",
            "******** Block 3 ********** Jin 1\n",
            "Output Channel size (20.0, 20.0)\n",
            "Receptive Field 27\n",
            "Output Channel size (22.0, 22.0)\n",
            "Receptive Field 27\n",
            "Output Channel size (8.0, 8.0)\n",
            "Receptive Field 43\n",
            "******** Block 4 ********** Jin 1\n",
            "Output Channel size (8.0, 8.0)\n",
            "Receptive Field 45\n",
            "Output Channel size (10.0, 10.0)\n",
            "Receptive Field 45\n"
          ]
        }
      ]
    },
    {
      "cell_type": "code",
      "execution_count": 63,
      "metadata": {
        "colab": {
          "base_uri": "https://localhost:8080/"
        },
        "id": "xdydjYTZFyi3",
        "outputId": "94aa2cee-51bd-40ba-fe05-b13b37e04921"
      },
      "outputs": [
        {
          "output_type": "stream",
          "name": "stdout",
          "text": [
            "Requirement already satisfied: torchsummary in /usr/local/lib/python3.10/dist-packages (1.5.1)\n",
            "----------------------------------------------------------------\n",
            "        Layer (type)               Output Shape         Param #\n",
            "================================================================\n",
            "            Conv2d-1           [-1, 16, 28, 28]           2,352\n",
            "              ReLU-2           [-1, 16, 28, 28]               0\n",
            "       BatchNorm2d-3           [-1, 16, 28, 28]              32\n",
            "           Dropout-4           [-1, 16, 28, 28]               0\n",
            "            Conv2d-5           [-1, 32, 28, 28]           4,608\n",
            "              ReLU-6           [-1, 32, 28, 28]               0\n",
            "       BatchNorm2d-7           [-1, 32, 28, 28]              64\n",
            "           Dropout-8           [-1, 32, 28, 28]               0\n",
            "            Conv2d-9           [-1, 32, 26, 26]           9,216\n",
            "             ReLU-10           [-1, 32, 26, 26]               0\n",
            "      BatchNorm2d-11           [-1, 32, 26, 26]              64\n",
            "          Dropout-12           [-1, 32, 26, 26]               0\n",
            "           Conv2d-13           [-1, 32, 26, 26]           9,216\n",
            "             ReLU-14           [-1, 32, 26, 26]               0\n",
            "      BatchNorm2d-15           [-1, 32, 26, 26]              64\n",
            "          Dropout-16           [-1, 32, 26, 26]               0\n",
            "           Conv2d-17           [-1, 64, 28, 28]           2,048\n",
            "             ReLU-18           [-1, 64, 28, 28]               0\n",
            "      BatchNorm2d-19           [-1, 64, 28, 28]             128\n",
            "           Conv2d-20           [-1, 64, 22, 22]          36,864\n",
            "             ReLU-21           [-1, 64, 22, 22]               0\n",
            "      BatchNorm2d-22           [-1, 64, 22, 22]             128\n",
            "          Dropout-23           [-1, 64, 22, 22]               0\n",
            "           Conv2d-24           [-1, 64, 22, 22]          36,864\n",
            "             ReLU-25           [-1, 64, 22, 22]               0\n",
            "      BatchNorm2d-26           [-1, 64, 22, 22]             128\n",
            "          Dropout-27           [-1, 64, 22, 22]               0\n",
            "           Conv2d-28           [-1, 32, 24, 24]           2,048\n",
            "             ReLU-29           [-1, 32, 24, 24]               0\n",
            "      BatchNorm2d-30           [-1, 32, 24, 24]              64\n",
            "           Conv2d-31           [-1, 64, 10, 10]          18,432\n",
            "             ReLU-32           [-1, 64, 10, 10]               0\n",
            "      BatchNorm2d-33           [-1, 64, 10, 10]             128\n",
            "          Dropout-34           [-1, 64, 10, 10]               0\n",
            "           Conv2d-35           [-1, 96, 10, 10]          55,296\n",
            "             ReLU-36           [-1, 96, 10, 10]               0\n",
            "      BatchNorm2d-37           [-1, 96, 10, 10]             192\n",
            "          Dropout-38           [-1, 96, 10, 10]               0\n",
            "           Conv2d-39          [-1, 128, 12, 12]          12,288\n",
            "             ReLU-40          [-1, 128, 12, 12]               0\n",
            "      BatchNorm2d-41          [-1, 128, 12, 12]             256\n",
            "AdaptiveAvgPool2d-42            [-1, 128, 1, 1]               0\n",
            "           Conv2d-43             [-1, 10, 1, 1]           1,280\n",
            "================================================================\n",
            "Total params: 191,760\n",
            "Trainable params: 191,760\n",
            "Non-trainable params: 0\n",
            "----------------------------------------------------------------\n",
            "Input size (MB): 0.01\n",
            "Forward/backward pass size (MB): 6.84\n",
            "Params size (MB): 0.73\n",
            "Estimated Total Size (MB): 7.58\n",
            "----------------------------------------------------------------\n"
          ]
        }
      ],
      "source": [
        "!pip install torchsummary\n",
        "from torchsummary import summary\n",
        "use_cuda = torch.cuda.is_available()\n",
        "device = torch.device(\"cuda\" if use_cuda else \"cpu\")\n",
        "model = Dilated_Net().to(device)\n",
        "summary(model, input_size=(3, 32, 32))"
      ]
    },
    {
      "cell_type": "code",
      "execution_count": 64,
      "metadata": {
        "id": "8fDefDhaFlwH"
      },
      "outputs": [],
      "source": [
        "from tqdm import tqdm\n",
        "\n",
        "train_losses = []\n",
        "test_losses = []\n",
        "train_acc = []\n",
        "test_acc = []\n",
        "\n",
        "def train(model, device, train_loader, optimizer, epoch):\n",
        "  model.train()\n",
        "  pbar = tqdm(train_loader)\n",
        "  correct = 0\n",
        "  processed = 0\n",
        "  for batch_idx, (data, target) in enumerate(pbar):\n",
        "    # get samples\n",
        "    data, target = data.to(device), target.to(device)\n",
        "\n",
        "    # Init\n",
        "    optimizer.zero_grad()\n",
        "    # In PyTorch, we need to set the gradients to zero before starting to do backpropragation because PyTorch accumulates the gradients on subsequent backward passes.\n",
        "    # Because of this, when you start your training loop, ideally you should zero out the gradients so that you do the parameter update correctly.\n",
        "    # Predict\n",
        "    y_pred = model(data)\n",
        "\n",
        "    # Calculate loss\n",
        "    loss = F.nll_loss(y_pred, target)\n",
        "    train_losses.append(loss)\n",
        "\n",
        "    # Backpropagation\n",
        "    loss.backward()\n",
        "    optimizer.step()\n",
        "\n",
        "    # Update pbar-tqdm\n",
        "\n",
        "    pred = y_pred.argmax(dim=1, keepdim=True)  # get the index of the max log-probability\n",
        "    correct += pred.eq(target.view_as(pred)).sum().item()\n",
        "    processed += len(data)\n",
        "\n",
        "    pbar.set_description(desc= f'Loss={loss.item()} Batch_id={batch_idx} Accuracy={100*correct/processed:0.2f}')\n",
        "    train_acc.append(100*correct/processed)\n",
        "\n",
        "def test(model, device, test_loader):\n",
        "    model.eval()\n",
        "    test_loss = 0\n",
        "    correct = 0\n",
        "    with torch.no_grad():\n",
        "        for data, target in test_loader:\n",
        "            data, target = data.to(device), target.to(device)\n",
        "            output = model(data)\n",
        "            test_loss += F.nll_loss(output, target, reduction='sum').item()  # sum up batch loss\n",
        "            pred = output.argmax(dim=1, keepdim=True)  # get the index of the max log-probability\n",
        "            correct += pred.eq(target.view_as(pred)).sum().item()\n",
        "\n",
        "    test_loss /= len(test_loader.dataset)\n",
        "    test_losses.append(test_loss)\n",
        "\n",
        "    print('\\nTest set: Average loss: {:.4f}, Accuracy: {}/{} ({:.2f}%)\\n'.format(\n",
        "        test_loss, correct, len(test_loader.dataset),\n",
        "        100. * correct / len(test_loader.dataset)))\n",
        "\n",
        "    test_acc.append(100. * correct / len(test_loader.dataset))"
      ]
    },
    {
      "cell_type": "code",
      "source": [
        "#epoch 5  Accuracy=54.67 , 60.59%"
      ],
      "metadata": {
        "id": "7WbB0YQg7a2t"
      },
      "execution_count": null,
      "outputs": []
    },
    {
      "cell_type": "code",
      "execution_count": 66,
      "metadata": {
        "colab": {
          "base_uri": "https://localhost:8080/"
        },
        "id": "MMWbLWO6FuHb",
        "outputId": "c4cf3c52-a694-495e-ee61-da47f032676f"
      },
      "outputs": [
        {
          "output_type": "stream",
          "name": "stdout",
          "text": [
            "Epoch 1\n"
          ]
        },
        {
          "output_type": "stream",
          "name": "stderr",
          "text": [
            "Loss=1.534231424331665 Batch_id=97 Accuracy=33.63: 100%|██████████| 98/98 [00:14<00:00,  6.78it/s]\n"
          ]
        },
        {
          "output_type": "stream",
          "name": "stdout",
          "text": [
            "\n",
            "Test set: Average loss: 1.6515, Accuracy: 4098/10000 (40.98%)\n",
            "\n",
            "Epoch 2\n"
          ]
        },
        {
          "output_type": "stream",
          "name": "stderr",
          "text": [
            "Loss=1.4442251920700073 Batch_id=97 Accuracy=44.78: 100%|██████████| 98/98 [00:14<00:00,  6.73it/s]\n"
          ]
        },
        {
          "output_type": "stream",
          "name": "stdout",
          "text": [
            "\n",
            "Test set: Average loss: 1.4523, Accuracy: 4938/10000 (49.38%)\n",
            "\n",
            "Epoch 3\n"
          ]
        },
        {
          "output_type": "stream",
          "name": "stderr",
          "text": [
            "Loss=1.438436508178711 Batch_id=97 Accuracy=50.11: 100%|██████████| 98/98 [00:14<00:00,  6.64it/s]\n"
          ]
        },
        {
          "output_type": "stream",
          "name": "stdout",
          "text": [
            "\n",
            "Test set: Average loss: 1.1897, Accuracy: 5701/10000 (57.01%)\n",
            "\n",
            "Epoch 4\n"
          ]
        },
        {
          "output_type": "stream",
          "name": "stderr",
          "text": [
            "Loss=1.1738317012786865 Batch_id=97 Accuracy=54.41: 100%|██████████| 98/98 [00:14<00:00,  6.55it/s]\n"
          ]
        },
        {
          "output_type": "stream",
          "name": "stdout",
          "text": [
            "\n",
            "Test set: Average loss: 1.1111, Accuracy: 6071/10000 (60.71%)\n",
            "\n",
            "Epoch 5\n"
          ]
        },
        {
          "output_type": "stream",
          "name": "stderr",
          "text": [
            "Loss=1.109797716140747 Batch_id=97 Accuracy=57.46: 100%|██████████| 98/98 [00:15<00:00,  6.42it/s]\n"
          ]
        },
        {
          "output_type": "stream",
          "name": "stdout",
          "text": [
            "\n",
            "Test set: Average loss: 1.0261, Accuracy: 6420/10000 (64.20%)\n",
            "\n",
            "Epoch 6\n"
          ]
        },
        {
          "output_type": "stream",
          "name": "stderr",
          "text": [
            "Loss=1.123292088508606 Batch_id=97 Accuracy=60.47: 100%|██████████| 98/98 [00:14<00:00,  6.74it/s]\n"
          ]
        },
        {
          "output_type": "stream",
          "name": "stdout",
          "text": [
            "\n",
            "Test set: Average loss: 0.9099, Accuracy: 6781/10000 (67.81%)\n",
            "\n",
            "Epoch 7\n"
          ]
        },
        {
          "output_type": "stream",
          "name": "stderr",
          "text": [
            "Loss=1.0355364084243774 Batch_id=97 Accuracy=63.00: 100%|██████████| 98/98 [00:14<00:00,  6.64it/s]\n"
          ]
        },
        {
          "output_type": "stream",
          "name": "stdout",
          "text": [
            "\n",
            "Test set: Average loss: 0.8610, Accuracy: 6990/10000 (69.90%)\n",
            "\n",
            "Epoch 8\n"
          ]
        },
        {
          "output_type": "stream",
          "name": "stderr",
          "text": [
            "Loss=1.036393165588379 Batch_id=97 Accuracy=64.66: 100%|██████████| 98/98 [00:14<00:00,  6.70it/s]\n"
          ]
        },
        {
          "output_type": "stream",
          "name": "stdout",
          "text": [
            "\n",
            "Test set: Average loss: 0.8396, Accuracy: 7058/10000 (70.58%)\n",
            "\n",
            "Epoch 9\n"
          ]
        },
        {
          "output_type": "stream",
          "name": "stderr",
          "text": [
            "Loss=0.9046739935874939 Batch_id=97 Accuracy=65.96: 100%|██████████| 98/98 [00:15<00:00,  6.48it/s]\n"
          ]
        },
        {
          "output_type": "stream",
          "name": "stdout",
          "text": [
            "\n",
            "Test set: Average loss: 0.8239, Accuracy: 7149/10000 (71.49%)\n",
            "\n",
            "Epoch 10\n"
          ]
        },
        {
          "output_type": "stream",
          "name": "stderr",
          "text": [
            "Loss=1.0052107572555542 Batch_id=97 Accuracy=67.09: 100%|██████████| 98/98 [00:15<00:00,  6.52it/s]\n"
          ]
        },
        {
          "output_type": "stream",
          "name": "stdout",
          "text": [
            "\n",
            "Test set: Average loss: 0.7548, Accuracy: 7354/10000 (73.54%)\n",
            "\n",
            "Epoch 11\n"
          ]
        },
        {
          "output_type": "stream",
          "name": "stderr",
          "text": [
            "Loss=0.9686949849128723 Batch_id=97 Accuracy=68.49: 100%|██████████| 98/98 [00:14<00:00,  6.74it/s]\n"
          ]
        },
        {
          "output_type": "stream",
          "name": "stdout",
          "text": [
            "\n",
            "Test set: Average loss: 0.7168, Accuracy: 7520/10000 (75.20%)\n",
            "\n",
            "Epoch 12\n"
          ]
        },
        {
          "output_type": "stream",
          "name": "stderr",
          "text": [
            "Loss=0.8044407367706299 Batch_id=97 Accuracy=69.02: 100%|██████████| 98/98 [00:14<00:00,  6.69it/s]\n"
          ]
        },
        {
          "output_type": "stream",
          "name": "stdout",
          "text": [
            "\n",
            "Test set: Average loss: 0.7668, Accuracy: 7384/10000 (73.84%)\n",
            "\n",
            "Epoch 13\n"
          ]
        },
        {
          "output_type": "stream",
          "name": "stderr",
          "text": [
            "Loss=0.8378484845161438 Batch_id=97 Accuracy=69.81: 100%|██████████| 98/98 [00:14<00:00,  6.79it/s]\n"
          ]
        },
        {
          "output_type": "stream",
          "name": "stdout",
          "text": [
            "\n",
            "Test set: Average loss: 0.6951, Accuracy: 7595/10000 (75.95%)\n",
            "\n",
            "Epoch 14\n"
          ]
        },
        {
          "output_type": "stream",
          "name": "stderr",
          "text": [
            "Loss=0.8781651854515076 Batch_id=97 Accuracy=70.82: 100%|██████████| 98/98 [00:14<00:00,  6.54it/s]\n"
          ]
        },
        {
          "output_type": "stream",
          "name": "stdout",
          "text": [
            "\n",
            "Test set: Average loss: 0.6963, Accuracy: 7629/10000 (76.29%)\n",
            "\n",
            "Epoch 15\n"
          ]
        },
        {
          "output_type": "stream",
          "name": "stderr",
          "text": [
            "Loss=0.7704454064369202 Batch_id=97 Accuracy=71.19: 100%|██████████| 98/98 [00:14<00:00,  6.55it/s]\n"
          ]
        },
        {
          "output_type": "stream",
          "name": "stdout",
          "text": [
            "\n",
            "Test set: Average loss: 0.6502, Accuracy: 7773/10000 (77.73%)\n",
            "\n",
            "Epoch 16\n"
          ]
        },
        {
          "output_type": "stream",
          "name": "stderr",
          "text": [
            "Loss=0.8081290125846863 Batch_id=97 Accuracy=71.73: 100%|██████████| 98/98 [00:14<00:00,  6.62it/s]\n"
          ]
        },
        {
          "output_type": "stream",
          "name": "stdout",
          "text": [
            "\n",
            "Test set: Average loss: 0.6479, Accuracy: 7783/10000 (77.83%)\n",
            "\n",
            "Epoch 17\n"
          ]
        },
        {
          "output_type": "stream",
          "name": "stderr",
          "text": [
            "Loss=0.8009256720542908 Batch_id=97 Accuracy=72.00: 100%|██████████| 98/98 [00:14<00:00,  6.91it/s]\n"
          ]
        },
        {
          "output_type": "stream",
          "name": "stdout",
          "text": [
            "\n",
            "Test set: Average loss: 0.6484, Accuracy: 7829/10000 (78.29%)\n",
            "\n",
            "Epoch 18\n"
          ]
        },
        {
          "output_type": "stream",
          "name": "stderr",
          "text": [
            "Loss=0.7660326957702637 Batch_id=97 Accuracy=72.49: 100%|██████████| 98/98 [00:14<00:00,  6.88it/s]\n"
          ]
        },
        {
          "output_type": "stream",
          "name": "stdout",
          "text": [
            "\n",
            "Test set: Average loss: 0.6500, Accuracy: 7814/10000 (78.14%)\n",
            "\n",
            "Epoch 19\n"
          ]
        },
        {
          "output_type": "stream",
          "name": "stderr",
          "text": [
            "Loss=0.7653737664222717 Batch_id=97 Accuracy=73.02: 100%|██████████| 98/98 [00:14<00:00,  6.92it/s]\n"
          ]
        },
        {
          "output_type": "stream",
          "name": "stdout",
          "text": [
            "\n",
            "Test set: Average loss: 0.6150, Accuracy: 7971/10000 (79.71%)\n",
            "\n",
            "Epoch 20\n"
          ]
        },
        {
          "output_type": "stream",
          "name": "stderr",
          "text": [
            "Loss=0.8040974140167236 Batch_id=97 Accuracy=73.62: 100%|██████████| 98/98 [00:14<00:00,  6.89it/s]\n"
          ]
        },
        {
          "output_type": "stream",
          "name": "stdout",
          "text": [
            "\n",
            "Test set: Average loss: 0.6415, Accuracy: 7828/10000 (78.28%)\n",
            "\n",
            "Epoch 21\n"
          ]
        },
        {
          "output_type": "stream",
          "name": "stderr",
          "text": [
            "Loss=0.7234141826629639 Batch_id=97 Accuracy=74.00: 100%|██████████| 98/98 [00:14<00:00,  6.88it/s]\n"
          ]
        },
        {
          "output_type": "stream",
          "name": "stdout",
          "text": [
            "\n",
            "Test set: Average loss: 0.6426, Accuracy: 7841/10000 (78.41%)\n",
            "\n",
            "Epoch 22\n"
          ]
        },
        {
          "output_type": "stream",
          "name": "stderr",
          "text": [
            "Loss=0.831925630569458 Batch_id=97 Accuracy=74.26: 100%|██████████| 98/98 [00:14<00:00,  6.70it/s]\n"
          ]
        },
        {
          "output_type": "stream",
          "name": "stdout",
          "text": [
            "\n",
            "Test set: Average loss: 0.5970, Accuracy: 7981/10000 (79.81%)\n",
            "\n",
            "Epoch 23\n"
          ]
        },
        {
          "output_type": "stream",
          "name": "stderr",
          "text": [
            "Loss=0.722855269908905 Batch_id=97 Accuracy=74.53: 100%|██████████| 98/98 [00:14<00:00,  6.61it/s]\n"
          ]
        },
        {
          "output_type": "stream",
          "name": "stdout",
          "text": [
            "\n",
            "Test set: Average loss: 0.6577, Accuracy: 7806/10000 (78.06%)\n",
            "\n",
            "Epoch 24\n"
          ]
        },
        {
          "output_type": "stream",
          "name": "stderr",
          "text": [
            "Loss=0.6864461898803711 Batch_id=97 Accuracy=74.59: 100%|██████████| 98/98 [00:14<00:00,  6.99it/s]\n"
          ]
        },
        {
          "output_type": "stream",
          "name": "stdout",
          "text": [
            "\n",
            "Test set: Average loss: 0.6148, Accuracy: 7918/10000 (79.18%)\n",
            "\n",
            "Epoch 25\n"
          ]
        },
        {
          "output_type": "stream",
          "name": "stderr",
          "text": [
            "Loss=0.6699902415275574 Batch_id=97 Accuracy=75.04: 100%|██████████| 98/98 [00:14<00:00,  7.00it/s]\n"
          ]
        },
        {
          "output_type": "stream",
          "name": "stdout",
          "text": [
            "\n",
            "Test set: Average loss: 0.5883, Accuracy: 8002/10000 (80.02%)\n",
            "\n",
            "Epoch 26\n"
          ]
        },
        {
          "output_type": "stream",
          "name": "stderr",
          "text": [
            "Loss=0.7533020973205566 Batch_id=97 Accuracy=75.61: 100%|██████████| 98/98 [00:13<00:00,  7.06it/s]\n"
          ]
        },
        {
          "output_type": "stream",
          "name": "stdout",
          "text": [
            "\n",
            "Test set: Average loss: 0.6013, Accuracy: 7987/10000 (79.87%)\n",
            "\n",
            "Epoch 27\n"
          ]
        },
        {
          "output_type": "stream",
          "name": "stderr",
          "text": [
            "Loss=0.7362222075462341 Batch_id=97 Accuracy=75.54: 100%|██████████| 98/98 [00:14<00:00,  6.85it/s]\n"
          ]
        },
        {
          "output_type": "stream",
          "name": "stdout",
          "text": [
            "\n",
            "Test set: Average loss: 0.5982, Accuracy: 7990/10000 (79.90%)\n",
            "\n",
            "Epoch 28\n"
          ]
        },
        {
          "output_type": "stream",
          "name": "stderr",
          "text": [
            "Loss=0.689212441444397 Batch_id=97 Accuracy=75.89: 100%|██████████| 98/98 [00:14<00:00,  6.82it/s]\n"
          ]
        },
        {
          "output_type": "stream",
          "name": "stdout",
          "text": [
            "\n",
            "Test set: Average loss: 0.5689, Accuracy: 8066/10000 (80.66%)\n",
            "\n",
            "Epoch 29\n"
          ]
        },
        {
          "output_type": "stream",
          "name": "stderr",
          "text": [
            "Loss=0.6262606382369995 Batch_id=97 Accuracy=76.38: 100%|██████████| 98/98 [00:14<00:00,  6.83it/s]\n"
          ]
        },
        {
          "output_type": "stream",
          "name": "stdout",
          "text": [
            "\n",
            "Test set: Average loss: 0.5697, Accuracy: 8100/10000 (81.00%)\n",
            "\n",
            "Epoch 30\n"
          ]
        },
        {
          "output_type": "stream",
          "name": "stderr",
          "text": [
            "Loss=0.6779646277427673 Batch_id=97 Accuracy=76.39: 100%|██████████| 98/98 [00:14<00:00,  6.61it/s]\n"
          ]
        },
        {
          "output_type": "stream",
          "name": "stdout",
          "text": [
            "\n",
            "Test set: Average loss: 0.5981, Accuracy: 8013/10000 (80.13%)\n",
            "\n",
            "Epoch 31\n"
          ]
        },
        {
          "output_type": "stream",
          "name": "stderr",
          "text": [
            "Loss=0.669745683670044 Batch_id=97 Accuracy=76.30: 100%|██████████| 98/98 [00:14<00:00,  6.81it/s]\n"
          ]
        },
        {
          "output_type": "stream",
          "name": "stdout",
          "text": [
            "\n",
            "Test set: Average loss: 0.6022, Accuracy: 8005/10000 (80.05%)\n",
            "\n",
            "Epoch 32\n"
          ]
        },
        {
          "output_type": "stream",
          "name": "stderr",
          "text": [
            "Loss=0.8133069276809692 Batch_id=97 Accuracy=76.58: 100%|██████████| 98/98 [00:14<00:00,  6.94it/s]\n"
          ]
        },
        {
          "output_type": "stream",
          "name": "stdout",
          "text": [
            "\n",
            "Test set: Average loss: 0.5341, Accuracy: 8183/10000 (81.83%)\n",
            "\n",
            "Epoch 33\n"
          ]
        },
        {
          "output_type": "stream",
          "name": "stderr",
          "text": [
            "Loss=0.6860213279724121 Batch_id=97 Accuracy=76.67: 100%|██████████| 98/98 [00:14<00:00,  6.94it/s]\n"
          ]
        },
        {
          "output_type": "stream",
          "name": "stdout",
          "text": [
            "\n",
            "Test set: Average loss: 0.5534, Accuracy: 8137/10000 (81.37%)\n",
            "\n",
            "Epoch 34\n"
          ]
        },
        {
          "output_type": "stream",
          "name": "stderr",
          "text": [
            "Loss=0.6641324758529663 Batch_id=97 Accuracy=77.11: 100%|██████████| 98/98 [00:14<00:00,  6.96it/s]\n"
          ]
        },
        {
          "output_type": "stream",
          "name": "stdout",
          "text": [
            "\n",
            "Test set: Average loss: 0.5458, Accuracy: 8216/10000 (82.16%)\n",
            "\n",
            "Epoch 35\n"
          ]
        },
        {
          "output_type": "stream",
          "name": "stderr",
          "text": [
            "Loss=0.638272762298584 Batch_id=97 Accuracy=77.21: 100%|██████████| 98/98 [00:14<00:00,  6.90it/s]\n"
          ]
        },
        {
          "output_type": "stream",
          "name": "stdout",
          "text": [
            "\n",
            "Test set: Average loss: 0.5553, Accuracy: 8169/10000 (81.69%)\n",
            "\n",
            "Epoch 36\n"
          ]
        },
        {
          "output_type": "stream",
          "name": "stderr",
          "text": [
            "Loss=0.6677089333534241 Batch_id=97 Accuracy=77.14: 100%|██████████| 98/98 [00:13<00:00,  7.04it/s]\n"
          ]
        },
        {
          "output_type": "stream",
          "name": "stdout",
          "text": [
            "\n",
            "Test set: Average loss: 0.5487, Accuracy: 8137/10000 (81.37%)\n",
            "\n",
            "Epoch 37\n"
          ]
        },
        {
          "output_type": "stream",
          "name": "stderr",
          "text": [
            "Loss=0.6509665846824646 Batch_id=97 Accuracy=77.60: 100%|██████████| 98/98 [00:13<00:00,  7.00it/s]\n"
          ]
        },
        {
          "output_type": "stream",
          "name": "stdout",
          "text": [
            "\n",
            "Test set: Average loss: 0.5411, Accuracy: 8198/10000 (81.98%)\n",
            "\n",
            "Epoch 38\n"
          ]
        },
        {
          "output_type": "stream",
          "name": "stderr",
          "text": [
            "Loss=0.6909192800521851 Batch_id=97 Accuracy=77.42: 100%|██████████| 98/98 [00:14<00:00,  6.80it/s]\n"
          ]
        },
        {
          "output_type": "stream",
          "name": "stdout",
          "text": [
            "\n",
            "Test set: Average loss: 0.5307, Accuracy: 8278/10000 (82.78%)\n",
            "\n",
            "Epoch 39\n"
          ]
        },
        {
          "output_type": "stream",
          "name": "stderr",
          "text": [
            "Loss=0.5723086595535278 Batch_id=97 Accuracy=78.07: 100%|██████████| 98/98 [00:14<00:00,  6.64it/s]\n"
          ]
        },
        {
          "output_type": "stream",
          "name": "stdout",
          "text": [
            "\n",
            "Test set: Average loss: 0.5458, Accuracy: 8205/10000 (82.05%)\n",
            "\n",
            "Epoch 40\n"
          ]
        },
        {
          "output_type": "stream",
          "name": "stderr",
          "text": [
            "Loss=0.610863208770752 Batch_id=97 Accuracy=77.68: 100%|██████████| 98/98 [00:14<00:00,  6.98it/s]\n"
          ]
        },
        {
          "output_type": "stream",
          "name": "stdout",
          "text": [
            "\n",
            "Test set: Average loss: 0.5331, Accuracy: 8228/10000 (82.28%)\n",
            "\n",
            "Epoch 41\n"
          ]
        },
        {
          "output_type": "stream",
          "name": "stderr",
          "text": [
            "Loss=0.6744407415390015 Batch_id=97 Accuracy=78.12: 100%|██████████| 98/98 [00:14<00:00,  6.98it/s]\n"
          ]
        },
        {
          "output_type": "stream",
          "name": "stdout",
          "text": [
            "\n",
            "Test set: Average loss: 0.5297, Accuracy: 8286/10000 (82.86%)\n",
            "\n",
            "Epoch 42\n"
          ]
        },
        {
          "output_type": "stream",
          "name": "stderr",
          "text": [
            "Loss=0.6789969205856323 Batch_id=97 Accuracy=78.15: 100%|██████████| 98/98 [00:14<00:00,  6.96it/s]\n"
          ]
        },
        {
          "output_type": "stream",
          "name": "stdout",
          "text": [
            "\n",
            "Test set: Average loss: 0.5341, Accuracy: 8193/10000 (81.93%)\n",
            "\n",
            "Epoch 43\n"
          ]
        },
        {
          "output_type": "stream",
          "name": "stderr",
          "text": [
            "Loss=0.6190624237060547 Batch_id=97 Accuracy=78.29: 100%|██████████| 98/98 [00:14<00:00,  6.94it/s]\n"
          ]
        },
        {
          "output_type": "stream",
          "name": "stdout",
          "text": [
            "\n",
            "Test set: Average loss: 0.5370, Accuracy: 8253/10000 (82.53%)\n",
            "\n",
            "Epoch 44\n"
          ]
        },
        {
          "output_type": "stream",
          "name": "stderr",
          "text": [
            "Loss=0.6176922917366028 Batch_id=97 Accuracy=78.20: 100%|██████████| 98/98 [00:13<00:00,  7.05it/s]\n"
          ]
        },
        {
          "output_type": "stream",
          "name": "stdout",
          "text": [
            "\n",
            "Test set: Average loss: 0.5286, Accuracy: 8247/10000 (82.47%)\n",
            "\n",
            "Epoch 45\n"
          ]
        },
        {
          "output_type": "stream",
          "name": "stderr",
          "text": [
            "Loss=0.6286166310310364 Batch_id=97 Accuracy=78.66: 100%|██████████| 98/98 [00:14<00:00,  6.84it/s]\n"
          ]
        },
        {
          "output_type": "stream",
          "name": "stdout",
          "text": [
            "\n",
            "Test set: Average loss: 0.5285, Accuracy: 8285/10000 (82.85%)\n",
            "\n",
            "Epoch 46\n"
          ]
        },
        {
          "output_type": "stream",
          "name": "stderr",
          "text": [
            "Loss=0.5665826797485352 Batch_id=97 Accuracy=78.60: 100%|██████████| 98/98 [00:13<00:00,  7.06it/s]\n"
          ]
        },
        {
          "output_type": "stream",
          "name": "stdout",
          "text": [
            "\n",
            "Test set: Average loss: 0.5370, Accuracy: 8228/10000 (82.28%)\n",
            "\n",
            "Epoch 47\n"
          ]
        },
        {
          "output_type": "stream",
          "name": "stderr",
          "text": [
            "Loss=0.6012366414070129 Batch_id=97 Accuracy=78.78: 100%|██████████| 98/98 [00:14<00:00,  6.88it/s]\n"
          ]
        },
        {
          "output_type": "stream",
          "name": "stdout",
          "text": [
            "\n",
            "Test set: Average loss: 0.4903, Accuracy: 8368/10000 (83.68%)\n",
            "\n",
            "Epoch 48\n"
          ]
        },
        {
          "output_type": "stream",
          "name": "stderr",
          "text": [
            "Loss=0.6096970438957214 Batch_id=97 Accuracy=78.81: 100%|██████████| 98/98 [00:14<00:00,  6.82it/s]\n"
          ]
        },
        {
          "output_type": "stream",
          "name": "stdout",
          "text": [
            "\n",
            "Test set: Average loss: 0.5017, Accuracy: 8336/10000 (83.36%)\n",
            "\n",
            "Epoch 49\n"
          ]
        },
        {
          "output_type": "stream",
          "name": "stderr",
          "text": [
            "Loss=0.5575509071350098 Batch_id=97 Accuracy=79.18: 100%|██████████| 98/98 [00:14<00:00,  6.73it/s]\n"
          ]
        },
        {
          "output_type": "stream",
          "name": "stdout",
          "text": [
            "\n",
            "Test set: Average loss: 0.5102, Accuracy: 8286/10000 (82.86%)\n",
            "\n",
            "Epoch 50\n"
          ]
        },
        {
          "output_type": "stream",
          "name": "stderr",
          "text": [
            "Loss=0.5298765897750854 Batch_id=97 Accuracy=79.16: 100%|██████████| 98/98 [00:13<00:00,  7.06it/s]\n"
          ]
        },
        {
          "output_type": "stream",
          "name": "stdout",
          "text": [
            "\n",
            "Test set: Average loss: 0.5144, Accuracy: 8318/10000 (83.18%)\n",
            "\n",
            "Epoch 51\n"
          ]
        },
        {
          "output_type": "stream",
          "name": "stderr",
          "text": [
            "Loss=0.47869786620140076 Batch_id=97 Accuracy=81.27: 100%|██████████| 98/98 [00:14<00:00,  6.98it/s]\n"
          ]
        },
        {
          "output_type": "stream",
          "name": "stdout",
          "text": [
            "\n",
            "Test set: Average loss: 0.4496, Accuracy: 8511/10000 (85.11%)\n",
            "\n",
            "Epoch 52\n"
          ]
        },
        {
          "output_type": "stream",
          "name": "stderr",
          "text": [
            "Loss=0.44174739718437195 Batch_id=97 Accuracy=81.96: 100%|██████████| 98/98 [00:13<00:00,  7.03it/s]\n"
          ]
        },
        {
          "output_type": "stream",
          "name": "stdout",
          "text": [
            "\n",
            "Test set: Average loss: 0.4420, Accuracy: 8524/10000 (85.24%)\n",
            "\n",
            "Epoch 53\n"
          ]
        },
        {
          "output_type": "stream",
          "name": "stderr",
          "text": [
            "Loss=0.4889080822467804 Batch_id=97 Accuracy=82.23: 100%|██████████| 98/98 [00:13<00:00,  7.08it/s]\n"
          ]
        },
        {
          "output_type": "stream",
          "name": "stdout",
          "text": [
            "\n",
            "Test set: Average loss: 0.4444, Accuracy: 8521/10000 (85.21%)\n",
            "\n",
            "Epoch 54\n"
          ]
        },
        {
          "output_type": "stream",
          "name": "stderr",
          "text": [
            "Loss=0.46436962485313416 Batch_id=97 Accuracy=82.39: 100%|██████████| 98/98 [00:13<00:00,  7.02it/s]\n"
          ]
        },
        {
          "output_type": "stream",
          "name": "stdout",
          "text": [
            "\n",
            "Test set: Average loss: 0.4369, Accuracy: 8552/10000 (85.52%)\n",
            "\n",
            "Epoch 55\n"
          ]
        },
        {
          "output_type": "stream",
          "name": "stderr",
          "text": [
            "Loss=0.4764350354671478 Batch_id=97 Accuracy=82.59: 100%|██████████| 98/98 [00:13<00:00,  7.04it/s]\n"
          ]
        },
        {
          "output_type": "stream",
          "name": "stdout",
          "text": [
            "\n",
            "Test set: Average loss: 0.4389, Accuracy: 8532/10000 (85.32%)\n",
            "\n",
            "Epoch 56\n"
          ]
        },
        {
          "output_type": "stream",
          "name": "stderr",
          "text": [
            "Loss=0.4823492467403412 Batch_id=97 Accuracy=82.76: 100%|██████████| 98/98 [00:13<00:00,  7.07it/s]\n"
          ]
        },
        {
          "output_type": "stream",
          "name": "stdout",
          "text": [
            "\n",
            "Test set: Average loss: 0.4362, Accuracy: 8560/10000 (85.60%)\n",
            "\n",
            "Epoch 57\n"
          ]
        },
        {
          "output_type": "stream",
          "name": "stderr",
          "text": [
            "Loss=0.4827774465084076 Batch_id=97 Accuracy=82.71: 100%|██████████| 98/98 [00:14<00:00,  6.93it/s]\n"
          ]
        },
        {
          "output_type": "stream",
          "name": "stdout",
          "text": [
            "\n",
            "Test set: Average loss: 0.4430, Accuracy: 8533/10000 (85.33%)\n",
            "\n",
            "Epoch 58\n"
          ]
        },
        {
          "output_type": "stream",
          "name": "stderr",
          "text": [
            "Loss=0.46571218967437744 Batch_id=97 Accuracy=82.78: 100%|██████████| 98/98 [00:14<00:00,  6.85it/s]\n"
          ]
        },
        {
          "output_type": "stream",
          "name": "stdout",
          "text": [
            "\n",
            "Test set: Average loss: 0.4387, Accuracy: 8553/10000 (85.53%)\n",
            "\n",
            "Epoch 59\n"
          ]
        },
        {
          "output_type": "stream",
          "name": "stderr",
          "text": [
            "Loss=0.5312091112136841 Batch_id=97 Accuracy=82.65: 100%|██████████| 98/98 [00:14<00:00,  6.73it/s]\n"
          ]
        },
        {
          "output_type": "stream",
          "name": "stdout",
          "text": [
            "\n",
            "Test set: Average loss: 0.4356, Accuracy: 8572/10000 (85.72%)\n",
            "\n",
            "Epoch 60\n"
          ]
        },
        {
          "output_type": "stream",
          "name": "stderr",
          "text": [
            "Loss=0.5170820355415344 Batch_id=97 Accuracy=82.68: 100%|██████████| 98/98 [00:13<00:00,  7.05it/s]\n"
          ]
        },
        {
          "output_type": "stream",
          "name": "stdout",
          "text": [
            "\n",
            "Test set: Average loss: 0.4361, Accuracy: 8549/10000 (85.49%)\n",
            "\n",
            "Epoch 61\n"
          ]
        },
        {
          "output_type": "stream",
          "name": "stderr",
          "text": [
            "Loss=0.4637870788574219 Batch_id=97 Accuracy=83.24: 100%|██████████| 98/98 [00:14<00:00,  6.97it/s]\n"
          ]
        },
        {
          "output_type": "stream",
          "name": "stdout",
          "text": [
            "\n",
            "Test set: Average loss: 0.4383, Accuracy: 8563/10000 (85.63%)\n",
            "\n",
            "Epoch 62\n"
          ]
        },
        {
          "output_type": "stream",
          "name": "stderr",
          "text": [
            "Loss=0.5535367131233215 Batch_id=97 Accuracy=83.02: 100%|██████████| 98/98 [00:13<00:00,  7.00it/s]\n"
          ]
        },
        {
          "output_type": "stream",
          "name": "stdout",
          "text": [
            "\n",
            "Test set: Average loss: 0.4295, Accuracy: 8567/10000 (85.67%)\n",
            "\n",
            "Epoch 63\n"
          ]
        },
        {
          "output_type": "stream",
          "name": "stderr",
          "text": [
            "Loss=0.5828446745872498 Batch_id=97 Accuracy=83.02: 100%|██████████| 98/98 [00:13<00:00,  7.02it/s]\n"
          ]
        },
        {
          "output_type": "stream",
          "name": "stdout",
          "text": [
            "\n",
            "Test set: Average loss: 0.4329, Accuracy: 8590/10000 (85.90%)\n",
            "\n",
            "Epoch 64\n"
          ]
        },
        {
          "output_type": "stream",
          "name": "stderr",
          "text": [
            "Loss=0.514827311038971 Batch_id=97 Accuracy=82.92: 100%|██████████| 98/98 [00:13<00:00,  7.02it/s]\n"
          ]
        },
        {
          "output_type": "stream",
          "name": "stdout",
          "text": [
            "\n",
            "Test set: Average loss: 0.4360, Accuracy: 8551/10000 (85.51%)\n",
            "\n",
            "Epoch 65\n"
          ]
        },
        {
          "output_type": "stream",
          "name": "stderr",
          "text": [
            "Loss=0.4464647173881531 Batch_id=97 Accuracy=83.13: 100%|██████████| 98/98 [00:14<00:00,  6.88it/s]\n"
          ]
        },
        {
          "output_type": "stream",
          "name": "stdout",
          "text": [
            "\n",
            "Test set: Average loss: 0.4314, Accuracy: 8570/10000 (85.70%)\n",
            "\n"
          ]
        }
      ],
      "source": [
        "model = Dilated_Net().to(device)\n",
        "optimizer = optim.SGD(model.parameters(), lr=0.1, momentum=0.9, weight_decay=0.0001)\n",
        "scheduler = StepLR(optimizer, step_size=50, gamma=0.1)\n",
        "num_epochs = 65\n",
        "for epoch in range(num_epochs):\n",
        "    print(f'Epoch {epoch+1}')\n",
        "    train(model, device, train_loader, optimizer, epoch)\n",
        "    scheduler.step()\n",
        "    test(model, device, test_loader)"
      ]
    },
    {
      "cell_type": "code",
      "execution_count": 68,
      "metadata": {
        "colab": {
          "base_uri": "https://localhost:8080/",
          "height": 853
        },
        "id": "So5uk4EkHW6R",
        "outputId": "140e5ff2-a84b-48fb-aaf3-4288273a04b5"
      },
      "outputs": [
        {
          "output_type": "display_data",
          "data": {
            "text/plain": [
              "<Figure size 1500x1000 with 4 Axes>"
            ],
            "image/png": "[encoded data removed]"
          },
          "metadata": {}
        }
      ],
      "source": [
        "train_losses_lst = [t_items.item() for t_items in train_losses]\n",
        "plot_performance(train_losses_lst, train_acc, test_losses, test_acc)"
      ]
    },
    {
      "cell_type": "code",
      "execution_count": 69,
      "metadata": {
        "id": "87z1Vh70dEKE"
      },
      "outputs": [],
      "source": [
        "model.eval()\n",
        "test_loss = 0\n",
        "correct = 0\n",
        "i =0\n",
        "misclassified_dict = []\n",
        "with torch.no_grad():\n",
        "    for data, target in test_loader:\n",
        "        data, target = data.to(device), target.to(device)\n",
        "        output = model(data)\n",
        "        test_loss += F.nll_loss(output, target, reduction='sum').item()  # sum up batch loss\n",
        "        pred = output.argmax(dim=1, keepdim=True)  # get the index of the max log-probability\n",
        "        t = pred.eq(target.view_as(pred)).view(-1, target.size(0))\n",
        "        t = t.cpu().numpy().reshape(-1)\n",
        "        for ind,val in enumerate(t):\n",
        "          if not val :\n",
        "            temp_dict = {}\n",
        "            temp_dict['data'] = data[ind].cpu().numpy()\n",
        "            temp_dict['target'] = target[ind]\n",
        "            temp_dict['pred'] = pred[ind]\n",
        "            misclassified_dict.append(temp_dict)"
      ]
    },
    {
      "cell_type": "code",
      "source": [
        "classes = ['plane', 'car', 'bird', 'cat', 'deer', 'dog', 'frog', 'horse', 'ship', 'truck']\n",
        "display_images = misclassified_dict[:10]\n",
        "index = 0\n",
        "fig = plt.figure(figsize=(10,5))\n",
        "for img in display_images:\n",
        "    image = img['data']\n",
        "    pred = classes[img['pred']]\n",
        "    actual = classes[img['target']]\n",
        "    ax = fig.add_subplot(2, 5, index+1)\n",
        "    ax.axis('off')\n",
        "    ax.set_title(f'\\n Predicted Label : {pred} \\n Target Label : {actual}',fontsize=10)\n",
        "    ax.imshow(np.transpose(image, (1, 2, 0)))\n",
        "    index = index + 1\n",
        "plt.show()"
      ],
      "metadata": {
        "colab": {
          "base_uri": "https://localhost:8080/",
          "height": 611
        },
        "id": "RG0q7x3ZNFu6",
        "outputId": "8528d672-41ab-44e1-e420-cd1e494b011c"
      },
      "execution_count": 70,
      "outputs": [
        {
          "output_type": "stream",
          "name": "stderr",
          "text": [
            "WARNING:matplotlib.image:Clipping input data to the valid range for imshow with RGB data ([0..1] for floats or [0..255] for integers).\n",
            "WARNING:matplotlib.image:Clipping input data to the valid range for imshow with RGB data ([0..1] for floats or [0..255] for integers).\n",
            "WARNING:matplotlib.image:Clipping input data to the valid range for imshow with RGB data ([0..1] for floats or [0..255] for integers).\n",
            "WARNING:matplotlib.image:Clipping input data to the valid range for imshow with RGB data ([0..1] for floats or [0..255] for integers).\n",
            "WARNING:matplotlib.image:Clipping input data to the valid range for imshow with RGB data ([0..1] for floats or [0..255] for integers).\n",
            "WARNING:matplotlib.image:Clipping input data to the valid range for imshow with RGB data ([0..1] for floats or [0..255] for integers).\n",
            "WARNING:matplotlib.image:Clipping input data to the valid range for imshow with RGB data ([0..1] for floats or [0..255] for integers).\n",
            "WARNING:matplotlib.image:Clipping input data to the valid range for imshow with RGB data ([0..1] for floats or [0..255] for integers).\n",
            "WARNING:matplotlib.image:Clipping input data to the valid range for imshow with RGB data ([0..1] for floats or [0..255] for integers).\n",
            "WARNING:matplotlib.image:Clipping input data to the valid range for imshow with RGB data ([0..1] for floats or [0..255] for integers).\n"
          ]
        },
        {
          "output_type": "display_data",
          "data": {
            "text/plain": [
              "<Figure size 1000x500 with 10 Axes>"
            ],
            "image/png": "[encoded data removed]"
          },
          "metadata": {}
        }
      ]
    },
    {
      "cell_type": "code",
      "execution_count": null,
      "metadata": {
        "id": "VCbwXFdIjhoa"
      },
      "outputs": [],
      "source": []
    }
  ],
  "metadata": {
    "accelerator": "GPU",
    "colab": {
      "gpuType": "T4",
      "provenance": []
    },
    "kernelspec": {
      "display_name": "Python 3",
      "name": "python3"
    }
  },
  "nbformat": 4,
  "nbformat_minor": 0
}
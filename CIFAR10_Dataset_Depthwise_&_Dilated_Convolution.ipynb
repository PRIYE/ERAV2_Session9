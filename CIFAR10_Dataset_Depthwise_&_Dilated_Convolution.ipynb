{
  "cells": [
    {
      "cell_type": "code",
      "source": [
        "#!pip install albumentations==0.4.6"
      ],
      "metadata": {
        "id": "Zc-ZfGuuwN90"
      },
      "execution_count": 1,
      "outputs": []
    },
    {
      "cell_type": "code",
      "execution_count": 1,
      "metadata": {
        "id": "0m2JWFliFfKT"
      },
      "outputs": [],
      "source": [
        "from __future__ import print_function\n",
        "import torch\n",
        "import torch.nn as nn\n",
        "import torch.nn.functional as F\n",
        "import torch.optim as optim\n",
        "from torchvision import datasets, transforms\n",
        "from torch.optim.lr_scheduler import StepLR\n",
        "import albumentations as A\n",
        "from albumentations.pytorch import ToTensorV2\n",
        "import os\n",
        "os.environ['KMP_DUPLICATE_LIB_OK']='True'\n",
        "import cv2\n",
        "cv2.setNumThreads(0)\n",
        "cv2.ocl.setUseOpenCL(False)"
      ]
    },
    {
      "cell_type": "code",
      "execution_count": 2,
      "metadata": {
        "id": "FDI0WC3dRr3d",
        "colab": {
          "base_uri": "https://localhost:8080/"
        },
        "outputId": "4188d3a3-e55d-45fd-deb1-068d90d101ae"
      },
      "outputs": [
        {
          "output_type": "stream",
          "name": "stdout",
          "text": [
            "Mounted at /content/drive\n"
          ]
        }
      ],
      "source": [
        "from google.colab import drive\n",
        "drive.mount('/content/drive', force_remount=True)"
      ]
    },
    {
      "cell_type": "code",
      "execution_count": 3,
      "metadata": {
        "colab": {
          "base_uri": "https://localhost:8080/"
        },
        "id": "BAr9TCoO_eU9",
        "outputId": "80eabb16-0070-4392-cf7e-4e9be00ed4fd"
      },
      "outputs": [
        {
          "output_type": "stream",
          "name": "stdout",
          "text": [
            "CUDA Available? True Albumentations version 1.3.1\n"
          ]
        }
      ],
      "source": [
        "# CUDA?\n",
        "cuda = torch.cuda.is_available()\n",
        "print(\"CUDA Available?\", cuda, 'Albumentations version', A.__version__)"
      ]
    },
    {
      "cell_type": "code",
      "source": [
        "import os\n",
        "import sys\n",
        "sys.path.insert(0,'/content/drive/MyDrive/ERAV2/Assignment9')\n",
        "%cd /content/drive/MyDrive/ERAV2/Assignment9\n",
        "%pwd"
      ],
      "metadata": {
        "colab": {
          "base_uri": "https://localhost:8080/",
          "height": 53
        },
        "id": "esgkQcGH5z3I",
        "outputId": "cc3e1740-196a-43cd-e4b9-2163bb00dd24"
      },
      "execution_count": 4,
      "outputs": [
        {
          "output_type": "stream",
          "name": "stdout",
          "text": [
            "/content/drive/MyDrive/ERAV2/Assignment9\n"
          ]
        },
        {
          "output_type": "execute_result",
          "data": {
            "text/plain": [
              "'/content/drive/MyDrive/ERAV2/Assignment9'"
            ],
            "application/vnd.google.colaboratory.intrinsic+json": {
              "type": "string"
            }
          },
          "metadata": {},
          "execution_count": 4
        }
      ]
    },
    {
      "cell_type": "code",
      "source": [
        "from model import Dilated_Net\n",
        "from utils import plot_performance"
      ],
      "metadata": {
        "id": "KU3LKD3lRzS3"
      },
      "execution_count": 6,
      "outputs": []
    },
    {
      "cell_type": "code",
      "execution_count": 7,
      "metadata": {
        "id": "nkdpZXOsAeWW"
      },
      "outputs": [],
      "source": [
        "# Train Phase transformations\n",
        "train_transforms = A.Compose([        #  transforms.Resize((28, 28)),\n",
        "                                      #  transforms.ColorJitter(brightness=0.10, contrast=0.1, saturation=0.10, hue=0.1),\n",
        "                                       #transforms.RandomCrop(32, padding=4, padding_mode='reflect'),\n",
        "                                       A.HorizontalFlip(p=0.2),\n",
        "                                      A.ShiftScaleRotate(shift_limit=0.05, scale_limit=0.05, rotate_limit=15, p=0.5),\n",
        "                                      A.CoarseDropout(max_holes = 1, max_height=16, max_width=16, min_holes = 1, min_height=16, min_width=16, fill_value=(0.49139968, 0.48215841, 0.44653091),mask_fill_value = None),\n",
        "                                      # A.RandomBrightnessContrast(brightness_limit=1, contrast_limit=1, p=0.2),\n",
        "                                      A.ColorJitter(brightness=0.10, contrast=0.1, saturation=0.10, hue=0.1, p=0.2),\n",
        "                                       A.Normalize((0.49139968, 0.48215841, 0.44653091), (0.24703223, 0.24348513, 0.26158784)), # The mean and std have to be sequences (e.g., tuples), therefore you should add a comma after the values.\n",
        "                                      ToTensorV2()\n",
        "                                        ])\n",
        "\n",
        "# Test Phase transformations\n",
        "test_transforms = A.Compose([\n",
        "                                      #  transforms.Resize((28, 28)),\n",
        "                                      #  transforms.ColorJitter(brightness=0.10, contrast=0.1, saturation=0.10, hue=0.1),\n",
        "                                      A.Normalize((0.49139968, 0.48215841, 0.44653091), (0.24703223, 0.24348513, 0.26158784)), # The mean and std have to be sequences (e.g., tuples), therefore you should add a comma after the values.\n",
        "                                      ToTensorV2()\n",
        "\n",
        "                                       ])\n"
      ]
    },
    {
      "cell_type": "code",
      "source": [
        "class Albumentations_CIFAR10(datasets.CIFAR10):\n",
        "  def __init__(self, root=\"../data\", train=True, download=True, transform=None):\n",
        "    super().__init__( root=root, train=train, download=download, transform=transform)\n",
        "\n",
        "  def __getitem__(self, index):\n",
        "    image, label = self.data[index], self.targets[index]\n",
        "\n",
        "    if self.transform is not None:\n",
        "      transformed = self.transform(image=image)\n",
        "      image = transformed[\"image\"]\n",
        "    return image, label"
      ],
      "metadata": {
        "id": "3AGqxVUwmEY_"
      },
      "execution_count": 8,
      "outputs": []
    },
    {
      "cell_type": "code",
      "execution_count": 9,
      "metadata": {
        "colab": {
          "base_uri": "https://localhost:8080/"
        },
        "id": "L46SFApHAiy9",
        "outputId": "e4edf282-e774-417d-8d1f-190ef90f2ef2"
      },
      "outputs": [
        {
          "output_type": "stream",
          "name": "stdout",
          "text": [
            "Files already downloaded and verified\n",
            "Files already downloaded and verified\n"
          ]
        }
      ],
      "source": [
        "train = Albumentations_CIFAR10('../data', train=True, download=True, transform=train_transforms)\n",
        "test = Albumentations_CIFAR10('../data', train=False, download=True, transform=test_transforms)\n",
        "classes = ('plane', 'car', 'bird', 'cat',\n",
        "           'deer', 'dog', 'frog', 'horse', 'ship', 'truck')"
      ]
    },
    {
      "cell_type": "code",
      "execution_count": 10,
      "metadata": {
        "colab": {
          "base_uri": "https://localhost:8080/"
        },
        "id": "URzT2k3mpM-V",
        "outputId": "246e5504-0b2e-404f-a549-af618b58141b"
      },
      "outputs": [
        {
          "output_type": "stream",
          "name": "stdout",
          "text": [
            "CUDA Available? True\n"
          ]
        },
        {
          "output_type": "stream",
          "name": "stderr",
          "text": [
            "/usr/local/lib/python3.10/dist-packages/torch/utils/data/dataloader.py:558: UserWarning: This DataLoader will create 4 worker processes in total. Our suggested max number of worker in current system is 2, which is smaller than what this DataLoader is going to create. Please be aware that excessive worker creation might get DataLoader running slow or even freeze, lower the worker number to avoid potential slowness/freeze if necessary.\n",
            "  warnings.warn(_create_warning_msg(\n"
          ]
        }
      ],
      "source": [
        "SEED = 1\n",
        "\n",
        "# CUDA?\n",
        "cuda = torch.cuda.is_available()\n",
        "print(\"CUDA Available?\", cuda)\n",
        "\n",
        "# For reproducibility\n",
        "torch.manual_seed(SEED)\n",
        "\n",
        "if cuda:\n",
        "    torch.cuda.manual_seed(SEED)\n",
        "\n",
        "# dataloader arguments - something you'll fetch these from cmdprmt\n",
        "dataloader_args = dict(shuffle=True, batch_size=512, num_workers=4, pin_memory=True) if cuda else dict(shuffle=True, batch_size=64)\n",
        "\n",
        "# train dataloader\n",
        "train_loader = torch.utils.data.DataLoader(train, **dataloader_args)\n",
        "\n",
        "# test dataloader\n",
        "test_loader = torch.utils.data.DataLoader(test, **dataloader_args)"
      ]
    },
    {
      "cell_type": "code",
      "execution_count": 11,
      "metadata": {
        "colab": {
          "base_uri": "https://localhost:8080/"
        },
        "id": "kulBqYHFuU_R",
        "outputId": "5bd1160b-8ec9-47f4-ea96-41568b1d58e8"
      },
      "outputs": [
        {
          "output_type": "stream",
          "name": "stdout",
          "text": [
            "[Train]\n",
            " - Numpy Shape: (50000, 32, 32, 3)\n",
            " - Tensor Shape: torch.Size([50000, 32, 32, 3])\n",
            " - min: tensor(0., dtype=torch.float64)\n",
            " - max: tensor(1., dtype=torch.float64)\n",
            " - mean: [0.49139968 0.48215841 0.44653091]\n",
            " - std: [0.24703223 0.24348513 0.26158784]\n",
            "torch.Size([512, 3, 32, 32])\n",
            "torch.Size([512])\n"
          ]
        }
      ],
      "source": [
        "# We'd need to convert it into Numpy! Remember above we have converted it into tensors already\n",
        "#train_data = train.train_data\n",
        "train_data = train.data/255\n",
        "\n",
        "print('[Train]')\n",
        "print(' - Numpy Shape:', train.data.shape)\n",
        "print(' - Tensor Shape:', torch.tensor(train.data).size())\n",
        "print(' - min:', torch.min(torch.tensor(train_data)))\n",
        "print(' - max:', torch.max(torch.tensor(train_data)))\n",
        "print(' - mean:', train_data.mean(axis = (0,1,2)))\n",
        "print(' - std:', train_data.std(axis = (0,1,2)))\n",
        "\n",
        "dataiter = iter(train_loader)\n",
        "images, labels = next(dataiter)\n",
        "\n",
        "print(images.shape)\n",
        "print(labels.shape)\n"
      ]
    },
    {
      "cell_type": "code",
      "source": [
        "import matplotlib.pyplot as plt\n",
        "import numpy as np\n",
        "batch_data, batch_label = next(iter(train_loader))\n",
        "fig = plt.figure()\n",
        "classes = ('plane', 'car', 'bird', 'cat',\n",
        "           'deer', 'dog', 'frog', 'horse', 'ship', 'truck')\n",
        "for i in range(12):\n",
        "    plt.subplot(3,4,i+1)\n",
        "    plt.tight_layout()\n",
        "    plt.imshow(np.transpose(batch_data[i].numpy(), (2, 1, 0)), cmap='gray')\n",
        "    plt.title(f'{classes[batch_label[i].item()]}')\n",
        "    plt.xticks([])\n",
        "    plt.yticks([])\n",
        "plt.show()"
      ],
      "metadata": {
        "colab": {
          "base_uri": "https://localhost:8080/",
          "height": 697
        },
        "id": "MHvxN6LmxIOg",
        "outputId": "c76accb0-ed87-4b20-f499-96728b16b0c1"
      },
      "execution_count": 12,
      "outputs": [
        {
          "output_type": "stream",
          "name": "stderr",
          "text": [
            "WARNING:matplotlib.image:Clipping input data to the valid range for imshow with RGB data ([0..1] for floats or [0..255] for integers).\n",
            "WARNING:matplotlib.image:Clipping input data to the valid range for imshow with RGB data ([0..1] for floats or [0..255] for integers).\n",
            "WARNING:matplotlib.image:Clipping input data to the valid range for imshow with RGB data ([0..1] for floats or [0..255] for integers).\n",
            "WARNING:matplotlib.image:Clipping input data to the valid range for imshow with RGB data ([0..1] for floats or [0..255] for integers).\n",
            "WARNING:matplotlib.image:Clipping input data to the valid range for imshow with RGB data ([0..1] for floats or [0..255] for integers).\n",
            "WARNING:matplotlib.image:Clipping input data to the valid range for imshow with RGB data ([0..1] for floats or [0..255] for integers).\n",
            "WARNING:matplotlib.image:Clipping input data to the valid range for imshow with RGB data ([0..1] for floats or [0..255] for integers).\n",
            "WARNING:matplotlib.image:Clipping input data to the valid range for imshow with RGB data ([0..1] for floats or [0..255] for integers).\n",
            "WARNING:matplotlib.image:Clipping input data to the valid range for imshow with RGB data ([0..1] for floats or [0..255] for integers).\n",
            "WARNING:matplotlib.image:Clipping input data to the valid range for imshow with RGB data ([0..1] for floats or [0..255] for integers).\n",
            "WARNING:matplotlib.image:Clipping input data to the valid range for imshow with RGB data ([0..1] for floats or [0..255] for integers).\n",
            "WARNING:matplotlib.image:Clipping input data to the valid range for imshow with RGB data ([0..1] for floats or [0..255] for integers).\n"
          ]
        },
        {
          "output_type": "display_data",
          "data": {
            "text/plain": [
              "<Figure size 640x480 with 12 Axes>"
            ],
            "image/png": "[encoded data removed]"
          },
          "metadata": {}
        }
      ]
    },
    {
      "cell_type": "code",
      "source": [
        "def calc_activation_shape(dim, ksize, dilation=(1, 1), stride=(1, 1), padding=(0, 0)):\n",
        "  def shape_each_dim(i):\n",
        "    odim_i = dim[i] + 2 * padding[i] - dilation[i] * (ksize[i] - 1) - 1\n",
        "    return (odim_i / stride[i]) + 1\n",
        "  return shape_each_dim(0), shape_each_dim(1)\n",
        "\n",
        "def calc_receptive_field(Rin,ksize, stride, Jin, dilation=1):\n",
        "    new_k = (ksize - 1)\n",
        "    if dilation>1:\n",
        "      Jnew = Jin*dilation\n",
        "    else:\n",
        "      Jnew = stride*Jin\n",
        "    return Rin + new_k*Jin, Jnew"
      ],
      "metadata": {
        "id": "yyKxcUN59BV0"
      },
      "execution_count": 13,
      "outputs": []
    },
    {
      "cell_type": "code",
      "source": [
        "print('******** Block 1 **********')\n",
        "output_channel_size = calc_activation_shape(dim=(32,32), ksize=(3,3), dilation=(1, 1), stride=(1, 1), padding=(1, 1))\n",
        "print(f'Output Channel size {output_channel_size}')\n",
        "output_receptive_field, Jnew = calc_receptive_field(Rin=1 ,ksize=3, stride=1, Jin=1, dilation=1)\n",
        "print('Receptive Field', output_receptive_field)\n",
        "\n",
        "output_channel_size = calc_activation_shape(dim=output_channel_size, ksize=(3,3), dilation=(1, 1), stride=(1, 1), padding=(1, 1))\n",
        "print(f'Output Channel size {output_channel_size}')\n",
        "output_receptive_field, Jnew = calc_receptive_field(Rin=output_receptive_field ,ksize=3, stride=1,Jin=Jnew, dilation=1)\n",
        "print('Receptive Field', output_receptive_field)\n",
        "\n",
        "output_channel_size = calc_activation_shape(dim=output_channel_size, ksize=(3,3), dilation=(2, 2), stride=(1, 1), padding=(1, 1))\n",
        "print(f'Output Channel size {output_channel_size}')\n",
        "output_receptive_field, Jnew = calc_receptive_field(Rin=output_receptive_field ,ksize=3, stride=1, Jin=Jnew, dilation=2)\n",
        "print('Receptive Field', output_receptive_field)\n",
        "\n",
        "print('******** Block 2 **********', f'Jin {Jnew}')\n",
        "output_channel_size = calc_activation_shape(dim=output_channel_size, ksize=(3,3), dilation=(1, 1), stride=(1, 1), padding=(1, 1))\n",
        "print(f'Output Channel size {output_channel_size}')\n",
        "output_receptive_field, Jnew = calc_receptive_field(Rin=output_receptive_field ,ksize=3, stride=1,Jin=Jnew, dilation=1)\n",
        "print('Receptive Field', output_receptive_field)\n",
        "\n",
        "output_channel_size = calc_activation_shape(dim=output_channel_size, ksize=(1,1), dilation=(1, 1), stride=(1, 1), padding=(1, 1))\n",
        "print(f'Output Channel size {output_channel_size}')\n",
        "output_receptive_field, Jnew = calc_receptive_field(Rin=output_receptive_field ,ksize=1, stride=1, Jin=Jnew, dilation=1)\n",
        "print('Receptive Field', output_receptive_field)\n",
        "\n",
        "output_channel_size = calc_activation_shape(dim=output_channel_size, ksize=(3,3), dilation=(2, 2), stride=(1, 1), padding=(1, 1))\n",
        "print(f'Output Channel size {output_channel_size}')\n",
        "output_receptive_field, Jnew = calc_receptive_field(Rin=output_receptive_field ,ksize=3, stride=1, Jin=Jnew, dilation=2)\n",
        "print('Receptive Field', output_receptive_field)\n",
        "\n",
        "print('******** Block 3 **********', f'Jin {Jnew}')\n",
        "output_channel_size = calc_activation_shape(dim=output_channel_size, ksize=(3,3), dilation=(1, 1), stride=(1, 1), padding=(1, 1))\n",
        "print(f'Output Channel size {output_channel_size}')\n",
        "output_receptive_field, Jnew = calc_receptive_field(Rin=output_receptive_field ,ksize=3, stride=1,Jin=Jnew, dilation=1)\n",
        "print('Receptive Field', output_receptive_field)\n",
        "\n",
        "output_channel_size = calc_activation_shape(dim=output_channel_size, ksize=(1,1), dilation=(1, 1), stride=(1, 1), padding=(1, 1))\n",
        "print(f'Output Channel size {output_channel_size}')\n",
        "output_receptive_field, Jnew = calc_receptive_field(Rin=output_receptive_field ,ksize=1, stride=1, Jin=Jnew, dilation=1)\n",
        "print('Receptive Field', output_receptive_field)\n",
        "\n",
        "output_channel_size = calc_activation_shape(dim=output_channel_size, ksize=(3,3), dilation=(2, 2), stride=(1, 1), padding=(1, 1))\n",
        "print(f'Output Channel size {output_channel_size}')\n",
        "output_receptive_field, Jnew = calc_receptive_field(Rin=output_receptive_field ,ksize=3, stride=1, Jin=Jnew, dilation=2)\n",
        "print('Receptive Field', output_receptive_field)\n",
        "\n",
        "print('******** Block 4 **********', f'Jin {Jnew}')\n",
        "output_channel_size = calc_activation_shape(dim=output_channel_size, ksize=(3,3), dilation=(1, 1), stride=(1, 1), padding=(1, 1))\n",
        "print(f'Output Channel size {output_channel_size}')\n",
        "output_receptive_field, Jnew = calc_receptive_field(Rin=output_receptive_field ,ksize=3, stride=1,Jin=Jnew, dilation=1)\n",
        "print('Receptive Field', output_receptive_field)\n",
        "\n",
        "output_channel_size = calc_activation_shape(dim=output_channel_size, ksize=(1,1), dilation=(1, 1), stride=(1, 1), padding=(1, 1))\n",
        "print(f'Output Channel size {output_channel_size}')\n",
        "output_receptive_field, Jnew = calc_receptive_field(Rin=output_receptive_field ,ksize=1, stride=1, Jin=Jnew, dilation=1)\n",
        "print('Receptive Field', output_receptive_field)\n"
      ],
      "metadata": {
        "colab": {
          "base_uri": "https://localhost:8080/"
        },
        "id": "AS84Ja4S9Wf5",
        "outputId": "846c0afb-83f2-451b-d617-d37d63411722"
      },
      "execution_count": 55,
      "outputs": [
        {
          "output_type": "stream",
          "name": "stdout",
          "text": [
            "******** Block 1 **********\n",
            "Output Channel size (32.0, 32.0)\n",
            "Receptive Field 3\n",
            "Output Channel size (32.0, 32.0)\n",
            "Receptive Field 5\n",
            "Output Channel size (30.0, 30.0)\n",
            "Receptive Field 7\n",
            "******** Block 2 ********** Jin 2\n",
            "Output Channel size (30.0, 30.0)\n",
            "Receptive Field 11\n",
            "Output Channel size (32.0, 32.0)\n",
            "Receptive Field 11\n",
            "Output Channel size (30.0, 30.0)\n",
            "Receptive Field 15\n",
            "******** Block 3 ********** Jin 4\n",
            "Output Channel size (30.0, 30.0)\n",
            "Receptive Field 23\n",
            "Output Channel size (32.0, 32.0)\n",
            "Receptive Field 23\n",
            "Output Channel size (30.0, 30.0)\n",
            "Receptive Field 31\n",
            "******** Block 4 ********** Jin 8\n",
            "Output Channel size (30.0, 30.0)\n",
            "Receptive Field 47\n",
            "Output Channel size (32.0, 32.0)\n",
            "Receptive Field 47\n"
          ]
        }
      ]
    },
    {
      "cell_type": "code",
      "execution_count": 14,
      "metadata": {
        "colab": {
          "base_uri": "https://localhost:8080/"
        },
        "id": "xdydjYTZFyi3",
        "outputId": "4e1e21b5-4507-4656-bcd7-0720f3604674"
      },
      "outputs": [
        {
          "output_type": "stream",
          "name": "stdout",
          "text": [
            "Requirement already satisfied: torchsummary in /usr/local/lib/python3.10/dist-packages (1.5.1)\n",
            "----------------------------------------------------------------\n",
            "        Layer (type)               Output Shape         Param #\n",
            "================================================================\n",
            "            Conv2d-1           [-1, 16, 30, 30]           1,200\n",
            "              ReLU-2           [-1, 16, 30, 30]               0\n",
            "       BatchNorm2d-3           [-1, 16, 30, 30]              32\n",
            "           Dropout-4           [-1, 16, 30, 30]               0\n",
            "            Conv2d-5           [-1, 32, 30, 30]           4,608\n",
            "              ReLU-6           [-1, 32, 30, 30]               0\n",
            "       BatchNorm2d-7           [-1, 32, 30, 30]              64\n",
            "           Dropout-8           [-1, 32, 30, 30]               0\n",
            "            Conv2d-9           [-1, 32, 28, 28]           9,216\n",
            "             ReLU-10           [-1, 32, 28, 28]               0\n",
            "      BatchNorm2d-11           [-1, 32, 28, 28]              64\n",
            "          Dropout-12           [-1, 32, 28, 28]               0\n",
            "           Conv2d-13           [-1, 32, 28, 28]           9,216\n",
            "             ReLU-14           [-1, 32, 28, 28]               0\n",
            "      BatchNorm2d-15           [-1, 32, 28, 28]              64\n",
            "          Dropout-16           [-1, 32, 28, 28]               0\n",
            "           Conv2d-17           [-1, 64, 30, 30]           2,048\n",
            "             ReLU-18           [-1, 64, 30, 30]               0\n",
            "      BatchNorm2d-19           [-1, 64, 30, 30]             128\n",
            "           Conv2d-20           [-1, 64, 28, 28]          36,864\n",
            "             ReLU-21           [-1, 64, 28, 28]               0\n",
            "      BatchNorm2d-22           [-1, 64, 28, 28]             128\n",
            "          Dropout-23           [-1, 64, 28, 28]               0\n",
            "           Conv2d-24           [-1, 64, 28, 28]          36,864\n",
            "             ReLU-25           [-1, 64, 28, 28]               0\n",
            "      BatchNorm2d-26           [-1, 64, 28, 28]             128\n",
            "          Dropout-27           [-1, 64, 28, 28]               0\n",
            "           Conv2d-28           [-1, 32, 30, 30]           2,048\n",
            "             ReLU-29           [-1, 32, 30, 30]               0\n",
            "      BatchNorm2d-30           [-1, 32, 30, 30]              64\n",
            "           Conv2d-31           [-1, 64, 28, 28]          18,432\n",
            "             ReLU-32           [-1, 64, 28, 28]               0\n",
            "      BatchNorm2d-33           [-1, 64, 28, 28]             128\n",
            "          Dropout-34           [-1, 64, 28, 28]               0\n",
            "           Conv2d-35           [-1, 96, 28, 28]          55,296\n",
            "             ReLU-36           [-1, 96, 28, 28]               0\n",
            "      BatchNorm2d-37           [-1, 96, 28, 28]             192\n",
            "          Dropout-38           [-1, 96, 28, 28]               0\n",
            "           Conv2d-39          [-1, 128, 30, 30]          12,288\n",
            "             ReLU-40          [-1, 128, 30, 30]               0\n",
            "      BatchNorm2d-41          [-1, 128, 30, 30]             256\n",
            "AdaptiveAvgPool2d-42            [-1, 128, 1, 1]               0\n",
            "           Conv2d-43             [-1, 10, 1, 1]           1,280\n",
            "================================================================\n",
            "Total params: 190,608\n",
            "Trainable params: 190,608\n",
            "Non-trainable params: 0\n",
            "----------------------------------------------------------------\n",
            "Input size (MB): 0.01\n",
            "Forward/backward pass size (MB): 14.36\n",
            "Params size (MB): 0.73\n",
            "Estimated Total Size (MB): 15.09\n",
            "----------------------------------------------------------------\n"
          ]
        }
      ],
      "source": [
        "!pip install torchsummary\n",
        "from torchsummary import summary\n",
        "use_cuda = torch.cuda.is_available()\n",
        "device = torch.device(\"cuda\" if use_cuda else \"cpu\")\n",
        "model = Dilated_Net().to(device)\n",
        "summary(model, input_size=(3, 32, 32))"
      ]
    },
    {
      "cell_type": "code",
      "execution_count": 15,
      "metadata": {
        "id": "8fDefDhaFlwH"
      },
      "outputs": [],
      "source": [
        "from tqdm import tqdm\n",
        "\n",
        "train_losses = []\n",
        "test_losses = []\n",
        "train_acc = []\n",
        "test_acc = []\n",
        "\n",
        "def train(model, device, train_loader, optimizer, epoch):\n",
        "  model.train()\n",
        "  pbar = tqdm(train_loader)\n",
        "  correct = 0\n",
        "  processed = 0\n",
        "  for batch_idx, (data, target) in enumerate(pbar):\n",
        "    # get samples\n",
        "    data, target = data.to(device), target.to(device)\n",
        "\n",
        "    # Init\n",
        "    optimizer.zero_grad()\n",
        "    # In PyTorch, we need to set the gradients to zero before starting to do backpropragation because PyTorch accumulates the gradients on subsequent backward passes.\n",
        "    # Because of this, when you start your training loop, ideally you should zero out the gradients so that you do the parameter update correctly.\n",
        "    # Predict\n",
        "    y_pred = model(data)\n",
        "\n",
        "    # Calculate loss\n",
        "    loss = F.nll_loss(y_pred, target)\n",
        "    train_losses.append(loss)\n",
        "\n",
        "    # Backpropagation\n",
        "    loss.backward()\n",
        "    optimizer.step()\n",
        "\n",
        "    # Update pbar-tqdm\n",
        "\n",
        "    pred = y_pred.argmax(dim=1, keepdim=True)  # get the index of the max log-probability\n",
        "    correct += pred.eq(target.view_as(pred)).sum().item()\n",
        "    processed += len(data)\n",
        "\n",
        "    pbar.set_description(desc= f'Loss={loss.item()} Batch_id={batch_idx} Accuracy={100*correct/processed:0.2f}')\n",
        "    train_acc.append(100*correct/processed)\n",
        "\n",
        "def test(model, device, test_loader):\n",
        "    model.eval()\n",
        "    test_loss = 0\n",
        "    correct = 0\n",
        "    with torch.no_grad():\n",
        "        for data, target in test_loader:\n",
        "            data, target = data.to(device), target.to(device)\n",
        "            output = model(data)\n",
        "            test_loss += F.nll_loss(output, target, reduction='sum').item()  # sum up batch loss\n",
        "            pred = output.argmax(dim=1, keepdim=True)  # get the index of the max log-probability\n",
        "            correct += pred.eq(target.view_as(pred)).sum().item()\n",
        "\n",
        "    test_loss /= len(test_loader.dataset)\n",
        "    test_losses.append(test_loss)\n",
        "\n",
        "    print('\\nTest set: Average loss: {:.4f}, Accuracy: {}/{} ({:.2f}%)\\n'.format(\n",
        "        test_loss, correct, len(test_loader.dataset),\n",
        "        100. * correct / len(test_loader.dataset)))\n",
        "\n",
        "    test_acc.append(100. * correct / len(test_loader.dataset))"
      ]
    },
    {
      "cell_type": "code",
      "execution_count": 117,
      "metadata": {
        "colab": {
          "base_uri": "https://localhost:8080/"
        },
        "id": "MMWbLWO6FuHb",
        "outputId": "49cb1c37-9169-4ddc-b0ed-86348890aa1a"
      },
      "outputs": [
        {
          "output_type": "stream",
          "name": "stdout",
          "text": [
            "Epoch 1\n"
          ]
        },
        {
          "output_type": "stream",
          "name": "stderr",
          "text": [
            "Loss=1.569033145904541 Batch_id=97 Accuracy=33.37: 100%|██████████| 98/98 [00:24<00:00,  4.04it/s]\n"
          ]
        },
        {
          "output_type": "stream",
          "name": "stdout",
          "text": [
            "\n",
            "Test set: Average loss: 1.6789, Accuracy: 4019/10000 (40.19%)\n",
            "\n",
            "Epoch 2\n"
          ]
        },
        {
          "output_type": "stream",
          "name": "stderr",
          "text": [
            "Loss=1.4133265018463135 Batch_id=97 Accuracy=44.81: 100%|██████████| 98/98 [00:24<00:00,  4.07it/s]\n"
          ]
        },
        {
          "output_type": "stream",
          "name": "stdout",
          "text": [
            "\n",
            "Test set: Average loss: 1.4429, Accuracy: 4804/10000 (48.04%)\n",
            "\n",
            "Epoch 3\n"
          ]
        },
        {
          "output_type": "stream",
          "name": "stderr",
          "text": [
            "Loss=1.1855231523513794 Batch_id=97 Accuracy=51.25: 100%|██████████| 98/98 [00:24<00:00,  4.08it/s]\n"
          ]
        },
        {
          "output_type": "stream",
          "name": "stdout",
          "text": [
            "\n",
            "Test set: Average loss: 1.1672, Accuracy: 5793/10000 (57.93%)\n",
            "\n",
            "Epoch 4\n"
          ]
        },
        {
          "output_type": "stream",
          "name": "stderr",
          "text": [
            "Loss=1.2059962749481201 Batch_id=97 Accuracy=55.48: 100%|██████████| 98/98 [00:24<00:00,  4.04it/s]\n"
          ]
        },
        {
          "output_type": "stream",
          "name": "stdout",
          "text": [
            "\n",
            "Test set: Average loss: 1.0330, Accuracy: 6281/10000 (62.81%)\n",
            "\n",
            "Epoch 5\n"
          ]
        },
        {
          "output_type": "stream",
          "name": "stderr",
          "text": [
            "Loss=1.2492446899414062 Batch_id=97 Accuracy=58.73: 100%|██████████| 98/98 [00:24<00:00,  4.07it/s]\n"
          ]
        },
        {
          "output_type": "stream",
          "name": "stdout",
          "text": [
            "\n",
            "Test set: Average loss: 1.0140, Accuracy: 6340/10000 (63.40%)\n",
            "\n",
            "Epoch 6\n"
          ]
        },
        {
          "output_type": "stream",
          "name": "stderr",
          "text": [
            "Loss=1.0192738771438599 Batch_id=97 Accuracy=61.21: 100%|██████████| 98/98 [00:24<00:00,  4.04it/s]\n"
          ]
        },
        {
          "output_type": "stream",
          "name": "stdout",
          "text": [
            "\n",
            "Test set: Average loss: 1.0212, Accuracy: 6482/10000 (64.82%)\n",
            "\n",
            "Epoch 7\n"
          ]
        },
        {
          "output_type": "stream",
          "name": "stderr",
          "text": [
            "Loss=0.9521306157112122 Batch_id=97 Accuracy=63.33: 100%|██████████| 98/98 [00:24<00:00,  4.07it/s]\n"
          ]
        },
        {
          "output_type": "stream",
          "name": "stdout",
          "text": [
            "\n",
            "Test set: Average loss: 0.9072, Accuracy: 6834/10000 (68.34%)\n",
            "\n",
            "Epoch 8\n"
          ]
        },
        {
          "output_type": "stream",
          "name": "stderr",
          "text": [
            "Loss=1.0337440967559814 Batch_id=97 Accuracy=64.87: 100%|██████████| 98/98 [00:24<00:00,  4.05it/s]\n"
          ]
        },
        {
          "output_type": "stream",
          "name": "stdout",
          "text": [
            "\n",
            "Test set: Average loss: 0.8794, Accuracy: 6923/10000 (69.23%)\n",
            "\n",
            "Epoch 9\n"
          ]
        },
        {
          "output_type": "stream",
          "name": "stderr",
          "text": [
            "Loss=0.8785756230354309 Batch_id=97 Accuracy=66.31: 100%|██████████| 98/98 [00:24<00:00,  4.08it/s]\n"
          ]
        },
        {
          "output_type": "stream",
          "name": "stdout",
          "text": [
            "\n",
            "Test set: Average loss: 0.8253, Accuracy: 7095/10000 (70.95%)\n",
            "\n",
            "Epoch 10\n"
          ]
        },
        {
          "output_type": "stream",
          "name": "stderr",
          "text": [
            "Loss=0.7974972724914551 Batch_id=97 Accuracy=67.77: 100%|██████████| 98/98 [00:24<00:00,  4.08it/s]\n"
          ]
        },
        {
          "output_type": "stream",
          "name": "stdout",
          "text": [
            "\n",
            "Test set: Average loss: 0.9075, Accuracy: 6931/10000 (69.31%)\n",
            "\n",
            "Epoch 11\n"
          ]
        },
        {
          "output_type": "stream",
          "name": "stderr",
          "text": [
            "Loss=0.983643114566803 Batch_id=97 Accuracy=68.32: 100%|██████████| 98/98 [00:23<00:00,  4.08it/s]\n"
          ]
        },
        {
          "output_type": "stream",
          "name": "stdout",
          "text": [
            "\n",
            "Test set: Average loss: 0.7250, Accuracy: 7509/10000 (75.09%)\n",
            "\n",
            "Epoch 12\n"
          ]
        },
        {
          "output_type": "stream",
          "name": "stderr",
          "text": [
            "Loss=0.9318504333496094 Batch_id=97 Accuracy=69.76: 100%|██████████| 98/98 [00:23<00:00,  4.09it/s]\n"
          ]
        },
        {
          "output_type": "stream",
          "name": "stdout",
          "text": [
            "\n",
            "Test set: Average loss: 0.7305, Accuracy: 7468/10000 (74.68%)\n",
            "\n",
            "Epoch 13\n"
          ]
        },
        {
          "output_type": "stream",
          "name": "stderr",
          "text": [
            "Loss=0.787889301776886 Batch_id=97 Accuracy=70.30: 100%|██████████| 98/98 [00:23<00:00,  4.09it/s]\n"
          ]
        },
        {
          "output_type": "stream",
          "name": "stdout",
          "text": [
            "\n",
            "Test set: Average loss: 0.7374, Accuracy: 7490/10000 (74.90%)\n",
            "\n",
            "Epoch 14\n"
          ]
        },
        {
          "output_type": "stream",
          "name": "stderr",
          "text": [
            "Loss=0.8059789538383484 Batch_id=97 Accuracy=71.32: 100%|██████████| 98/98 [00:23<00:00,  4.09it/s]\n"
          ]
        },
        {
          "output_type": "stream",
          "name": "stdout",
          "text": [
            "\n",
            "Test set: Average loss: 0.6954, Accuracy: 7660/10000 (76.60%)\n",
            "\n",
            "Epoch 15\n"
          ]
        },
        {
          "output_type": "stream",
          "name": "stderr",
          "text": [
            "Loss=0.7671023607254028 Batch_id=97 Accuracy=71.59: 100%|██████████| 98/98 [00:24<00:00,  4.07it/s]\n"
          ]
        },
        {
          "output_type": "stream",
          "name": "stdout",
          "text": [
            "\n",
            "Test set: Average loss: 0.6761, Accuracy: 7688/10000 (76.88%)\n",
            "\n",
            "Epoch 16\n"
          ]
        },
        {
          "output_type": "stream",
          "name": "stderr",
          "text": [
            "Loss=0.7732031941413879 Batch_id=97 Accuracy=72.15: 100%|██████████| 98/98 [00:24<00:00,  4.01it/s]\n"
          ]
        },
        {
          "output_type": "stream",
          "name": "stdout",
          "text": [
            "\n",
            "Test set: Average loss: 0.6592, Accuracy: 7798/10000 (77.98%)\n",
            "\n",
            "Epoch 17\n"
          ]
        },
        {
          "output_type": "stream",
          "name": "stderr",
          "text": [
            "Loss=0.8200319409370422 Batch_id=97 Accuracy=72.72: 100%|██████████| 98/98 [00:24<00:00,  4.08it/s]\n"
          ]
        },
        {
          "output_type": "stream",
          "name": "stdout",
          "text": [
            "\n",
            "Test set: Average loss: 0.6452, Accuracy: 7807/10000 (78.07%)\n",
            "\n",
            "Epoch 18\n"
          ]
        },
        {
          "output_type": "stream",
          "name": "stderr",
          "text": [
            "Loss=0.7242715954780579 Batch_id=97 Accuracy=73.48: 100%|██████████| 98/98 [00:23<00:00,  4.09it/s]\n"
          ]
        },
        {
          "output_type": "stream",
          "name": "stdout",
          "text": [
            "\n",
            "Test set: Average loss: 0.6217, Accuracy: 7898/10000 (78.98%)\n",
            "\n",
            "Epoch 19\n"
          ]
        },
        {
          "output_type": "stream",
          "name": "stderr",
          "text": [
            "Loss=0.6529435515403748 Batch_id=97 Accuracy=73.63: 100%|██████████| 98/98 [00:23<00:00,  4.10it/s]\n"
          ]
        },
        {
          "output_type": "stream",
          "name": "stdout",
          "text": [
            "\n",
            "Test set: Average loss: 0.6364, Accuracy: 7860/10000 (78.60%)\n",
            "\n",
            "Epoch 20\n"
          ]
        },
        {
          "output_type": "stream",
          "name": "stderr",
          "text": [
            "Loss=0.8503106236457825 Batch_id=97 Accuracy=74.27: 100%|██████████| 98/98 [00:24<00:00,  4.08it/s]\n"
          ]
        },
        {
          "output_type": "stream",
          "name": "stdout",
          "text": [
            "\n",
            "Test set: Average loss: 0.6316, Accuracy: 7916/10000 (79.16%)\n",
            "\n",
            "Epoch 21\n"
          ]
        },
        {
          "output_type": "stream",
          "name": "stderr",
          "text": [
            "Loss=0.7353094816207886 Batch_id=97 Accuracy=74.56: 100%|██████████| 98/98 [00:24<00:00,  4.08it/s]\n"
          ]
        },
        {
          "output_type": "stream",
          "name": "stdout",
          "text": [
            "\n",
            "Test set: Average loss: 0.6195, Accuracy: 7915/10000 (79.15%)\n",
            "\n",
            "Epoch 22\n"
          ]
        },
        {
          "output_type": "stream",
          "name": "stderr",
          "text": [
            "Loss=0.8749516606330872 Batch_id=97 Accuracy=75.09: 100%|██████████| 98/98 [00:24<00:00,  4.07it/s]\n"
          ]
        },
        {
          "output_type": "stream",
          "name": "stdout",
          "text": [
            "\n",
            "Test set: Average loss: 0.6066, Accuracy: 7945/10000 (79.45%)\n",
            "\n",
            "Epoch 23\n"
          ]
        },
        {
          "output_type": "stream",
          "name": "stderr",
          "text": [
            "Loss=0.6668158173561096 Batch_id=97 Accuracy=75.29: 100%|██████████| 98/98 [00:23<00:00,  4.10it/s]\n"
          ]
        },
        {
          "output_type": "stream",
          "name": "stdout",
          "text": [
            "\n",
            "Test set: Average loss: 0.5481, Accuracy: 8099/10000 (80.99%)\n",
            "\n",
            "Epoch 24\n"
          ]
        },
        {
          "output_type": "stream",
          "name": "stderr",
          "text": [
            "Loss=0.735021710395813 Batch_id=97 Accuracy=75.40: 100%|██████████| 98/98 [00:24<00:00,  4.07it/s]\n"
          ]
        },
        {
          "output_type": "stream",
          "name": "stdout",
          "text": [
            "\n",
            "Test set: Average loss: 0.6137, Accuracy: 7966/10000 (79.66%)\n",
            "\n",
            "Epoch 25\n"
          ]
        },
        {
          "output_type": "stream",
          "name": "stderr",
          "text": [
            "Loss=0.6827587485313416 Batch_id=97 Accuracy=75.72: 100%|██████████| 98/98 [00:24<00:00,  4.07it/s]\n"
          ]
        },
        {
          "output_type": "stream",
          "name": "stdout",
          "text": [
            "\n",
            "Test set: Average loss: 0.6207, Accuracy: 7954/10000 (79.54%)\n",
            "\n",
            "Epoch 26\n"
          ]
        },
        {
          "output_type": "stream",
          "name": "stderr",
          "text": [
            "Loss=0.7320605516433716 Batch_id=97 Accuracy=76.03: 100%|██████████| 98/98 [00:23<00:00,  4.08it/s]\n"
          ]
        },
        {
          "output_type": "stream",
          "name": "stdout",
          "text": [
            "\n",
            "Test set: Average loss: 0.6369, Accuracy: 7867/10000 (78.67%)\n",
            "\n",
            "Epoch 27\n"
          ]
        },
        {
          "output_type": "stream",
          "name": "stderr",
          "text": [
            "Loss=0.7431632280349731 Batch_id=97 Accuracy=76.37: 100%|██████████| 98/98 [00:24<00:00,  4.07it/s]\n"
          ]
        },
        {
          "output_type": "stream",
          "name": "stdout",
          "text": [
            "\n",
            "Test set: Average loss: 0.6297, Accuracy: 7889/10000 (78.89%)\n",
            "\n",
            "Epoch 28\n"
          ]
        },
        {
          "output_type": "stream",
          "name": "stderr",
          "text": [
            "Loss=0.6574610471725464 Batch_id=97 Accuracy=76.56: 100%|██████████| 98/98 [00:24<00:00,  4.07it/s]\n"
          ]
        },
        {
          "output_type": "stream",
          "name": "stdout",
          "text": [
            "\n",
            "Test set: Average loss: 0.5820, Accuracy: 8099/10000 (80.99%)\n",
            "\n",
            "Epoch 29\n"
          ]
        },
        {
          "output_type": "stream",
          "name": "stderr",
          "text": [
            "Loss=0.6572784185409546 Batch_id=97 Accuracy=76.96: 100%|██████████| 98/98 [00:24<00:00,  4.05it/s]\n"
          ]
        },
        {
          "output_type": "stream",
          "name": "stdout",
          "text": [
            "\n",
            "Test set: Average loss: 0.5482, Accuracy: 8217/10000 (82.17%)\n",
            "\n",
            "Epoch 30\n"
          ]
        },
        {
          "output_type": "stream",
          "name": "stderr",
          "text": [
            "Loss=0.6575129628181458 Batch_id=97 Accuracy=77.27: 100%|██████████| 98/98 [00:24<00:00,  4.03it/s]\n"
          ]
        },
        {
          "output_type": "stream",
          "name": "stdout",
          "text": [
            "\n",
            "Test set: Average loss: 0.5719, Accuracy: 8078/10000 (80.78%)\n",
            "\n",
            "Epoch 31\n"
          ]
        },
        {
          "output_type": "stream",
          "name": "stderr",
          "text": [
            "Loss=0.5947019457817078 Batch_id=97 Accuracy=79.56: 100%|██████████| 98/98 [00:23<00:00,  4.10it/s]\n"
          ]
        },
        {
          "output_type": "stream",
          "name": "stdout",
          "text": [
            "\n",
            "Test set: Average loss: 0.4669, Accuracy: 8428/10000 (84.28%)\n",
            "\n",
            "Epoch 32\n"
          ]
        },
        {
          "output_type": "stream",
          "name": "stderr",
          "text": [
            "Loss=0.5543363690376282 Batch_id=97 Accuracy=80.28: 100%|██████████| 98/98 [00:23<00:00,  4.13it/s]\n"
          ]
        },
        {
          "output_type": "stream",
          "name": "stdout",
          "text": [
            "\n",
            "Test set: Average loss: 0.4627, Accuracy: 8460/10000 (84.60%)\n",
            "\n",
            "Epoch 33\n"
          ]
        },
        {
          "output_type": "stream",
          "name": "stderr",
          "text": [
            "Loss=0.493117094039917 Batch_id=97 Accuracy=80.52: 100%|██████████| 98/98 [00:23<00:00,  4.13it/s]\n"
          ]
        },
        {
          "output_type": "stream",
          "name": "stdout",
          "text": [
            "\n",
            "Test set: Average loss: 0.4549, Accuracy: 8475/10000 (84.75%)\n",
            "\n",
            "Epoch 34\n"
          ]
        },
        {
          "output_type": "stream",
          "name": "stderr",
          "text": [
            "Loss=0.5485655665397644 Batch_id=97 Accuracy=80.72: 100%|██████████| 98/98 [00:23<00:00,  4.14it/s]\n"
          ]
        },
        {
          "output_type": "stream",
          "name": "stdout",
          "text": [
            "\n",
            "Test set: Average loss: 0.4570, Accuracy: 8469/10000 (84.69%)\n",
            "\n",
            "Epoch 35\n"
          ]
        },
        {
          "output_type": "stream",
          "name": "stderr",
          "text": [
            "Loss=0.5821589231491089 Batch_id=97 Accuracy=80.74: 100%|██████████| 98/98 [00:23<00:00,  4.11it/s]\n"
          ]
        },
        {
          "output_type": "stream",
          "name": "stdout",
          "text": [
            "\n",
            "Test set: Average loss: 0.4550, Accuracy: 8461/10000 (84.61%)\n",
            "\n",
            "Epoch 36\n"
          ]
        },
        {
          "output_type": "stream",
          "name": "stderr",
          "text": [
            "Loss=0.5158611536026001 Batch_id=97 Accuracy=81.01: 100%|██████████| 98/98 [00:23<00:00,  4.13it/s]\n"
          ]
        },
        {
          "output_type": "stream",
          "name": "stdout",
          "text": [
            "\n",
            "Test set: Average loss: 0.4525, Accuracy: 8491/10000 (84.91%)\n",
            "\n",
            "Epoch 37\n"
          ]
        },
        {
          "output_type": "stream",
          "name": "stderr",
          "text": [
            "Loss=0.5669922828674316 Batch_id=97 Accuracy=81.01: 100%|██████████| 98/98 [00:23<00:00,  4.12it/s]\n"
          ]
        },
        {
          "output_type": "stream",
          "name": "stdout",
          "text": [
            "\n",
            "Test set: Average loss: 0.4514, Accuracy: 8458/10000 (84.58%)\n",
            "\n",
            "Epoch 38\n"
          ]
        },
        {
          "output_type": "stream",
          "name": "stderr",
          "text": [
            "Loss=0.5378300547599792 Batch_id=97 Accuracy=80.79: 100%|██████████| 98/98 [00:23<00:00,  4.12it/s]\n"
          ]
        },
        {
          "output_type": "stream",
          "name": "stdout",
          "text": [
            "\n",
            "Test set: Average loss: 0.4548, Accuracy: 8487/10000 (84.87%)\n",
            "\n",
            "Epoch 39\n"
          ]
        },
        {
          "output_type": "stream",
          "name": "stderr",
          "text": [
            "Loss=0.6107585430145264 Batch_id=97 Accuracy=81.15: 100%|██████████| 98/98 [00:23<00:00,  4.14it/s]\n"
          ]
        },
        {
          "output_type": "stream",
          "name": "stdout",
          "text": [
            "\n",
            "Test set: Average loss: 0.4472, Accuracy: 8492/10000 (84.92%)\n",
            "\n",
            "Epoch 40\n"
          ]
        },
        {
          "output_type": "stream",
          "name": "stderr",
          "text": [
            "Loss=0.5959246754646301 Batch_id=97 Accuracy=81.28: 100%|██████████| 98/98 [00:23<00:00,  4.13it/s]\n"
          ]
        },
        {
          "output_type": "stream",
          "name": "stdout",
          "text": [
            "\n",
            "Test set: Average loss: 0.4473, Accuracy: 8469/10000 (84.69%)\n",
            "\n",
            "Epoch 41\n"
          ]
        },
        {
          "output_type": "stream",
          "name": "stderr",
          "text": [
            "Loss=0.47001656889915466 Batch_id=97 Accuracy=81.33: 100%|██████████| 98/98 [00:23<00:00,  4.12it/s]\n"
          ]
        },
        {
          "output_type": "stream",
          "name": "stdout",
          "text": [
            "\n",
            "Test set: Average loss: 0.4518, Accuracy: 8503/10000 (85.03%)\n",
            "\n",
            "Epoch 42\n"
          ]
        },
        {
          "output_type": "stream",
          "name": "stderr",
          "text": [
            "Loss=0.5518458485603333 Batch_id=97 Accuracy=81.32: 100%|██████████| 98/98 [00:23<00:00,  4.11it/s]\n"
          ]
        },
        {
          "output_type": "stream",
          "name": "stdout",
          "text": [
            "\n",
            "Test set: Average loss: 0.4471, Accuracy: 8533/10000 (85.33%)\n",
            "\n",
            "Epoch 43\n"
          ]
        },
        {
          "output_type": "stream",
          "name": "stderr",
          "text": [
            "Loss=0.5347983837127686 Batch_id=97 Accuracy=81.35: 100%|██████████| 98/98 [00:23<00:00,  4.13it/s]\n"
          ]
        },
        {
          "output_type": "stream",
          "name": "stdout",
          "text": [
            "\n",
            "Test set: Average loss: 0.4486, Accuracy: 8506/10000 (85.06%)\n",
            "\n",
            "Epoch 44\n"
          ]
        },
        {
          "output_type": "stream",
          "name": "stderr",
          "text": [
            "Loss=0.5063818097114563 Batch_id=97 Accuracy=81.45: 100%|██████████| 98/98 [00:23<00:00,  4.13it/s]\n"
          ]
        },
        {
          "output_type": "stream",
          "name": "stdout",
          "text": [
            "\n",
            "Test set: Average loss: 0.4477, Accuracy: 8509/10000 (85.09%)\n",
            "\n",
            "Epoch 45\n"
          ]
        },
        {
          "output_type": "stream",
          "name": "stderr",
          "text": [
            "Loss=0.6479418873786926 Batch_id=97 Accuracy=81.54: 100%|██████████| 98/98 [00:23<00:00,  4.13it/s]\n"
          ]
        },
        {
          "output_type": "stream",
          "name": "stdout",
          "text": [
            "\n",
            "Test set: Average loss: 0.4420, Accuracy: 8529/10000 (85.29%)\n",
            "\n",
            "Epoch 46\n"
          ]
        },
        {
          "output_type": "stream",
          "name": "stderr",
          "text": [
            "Loss=0.5976601839065552 Batch_id=97 Accuracy=81.76: 100%|██████████| 98/98 [00:23<00:00,  4.14it/s]\n"
          ]
        },
        {
          "output_type": "stream",
          "name": "stdout",
          "text": [
            "\n",
            "Test set: Average loss: 0.4425, Accuracy: 8534/10000 (85.34%)\n",
            "\n",
            "Epoch 47\n"
          ]
        },
        {
          "output_type": "stream",
          "name": "stderr",
          "text": [
            "Loss=0.44801104068756104 Batch_id=97 Accuracy=81.65: 100%|██████████| 98/98 [00:23<00:00,  4.13it/s]\n"
          ]
        },
        {
          "output_type": "stream",
          "name": "stdout",
          "text": [
            "\n",
            "Test set: Average loss: 0.4456, Accuracy: 8533/10000 (85.33%)\n",
            "\n",
            "Epoch 48\n"
          ]
        },
        {
          "output_type": "stream",
          "name": "stderr",
          "text": [
            "Loss=0.5049708485603333 Batch_id=97 Accuracy=81.68: 100%|██████████| 98/98 [00:23<00:00,  4.13it/s]\n"
          ]
        },
        {
          "output_type": "stream",
          "name": "stdout",
          "text": [
            "\n",
            "Test set: Average loss: 0.4443, Accuracy: 8529/10000 (85.29%)\n",
            "\n",
            "Epoch 49\n"
          ]
        },
        {
          "output_type": "stream",
          "name": "stderr",
          "text": [
            "Loss=0.48251062631607056 Batch_id=97 Accuracy=81.50: 100%|██████████| 98/98 [00:23<00:00,  4.13it/s]\n"
          ]
        },
        {
          "output_type": "stream",
          "name": "stdout",
          "text": [
            "\n",
            "Test set: Average loss: 0.4511, Accuracy: 8517/10000 (85.17%)\n",
            "\n",
            "Epoch 50\n"
          ]
        },
        {
          "output_type": "stream",
          "name": "stderr",
          "text": [
            "Loss=0.6292750835418701 Batch_id=97 Accuracy=81.55: 100%|██████████| 98/98 [00:23<00:00,  4.14it/s]\n"
          ]
        },
        {
          "output_type": "stream",
          "name": "stdout",
          "text": [
            "\n",
            "Test set: Average loss: 0.4435, Accuracy: 8552/10000 (85.52%)\n",
            "\n"
          ]
        }
      ],
      "source": [
        "model = Dilated_Net().to(device)\n",
        "optimizer = optim.SGD(model.parameters(), lr=0.1, momentum=0.9, weight_decay=0.0001)\n",
        "scheduler = StepLR(optimizer, step_size=30, gamma=0.1)\n",
        "num_epochs = 50\n",
        "for epoch in range(num_epochs):\n",
        "    print(f'Epoch {epoch+1}')\n",
        "    train(model, device, train_loader, optimizer, epoch)\n",
        "    scheduler.step()\n",
        "    test(model, device, test_loader)"
      ]
    },
    {
      "cell_type": "code",
      "execution_count": 120,
      "metadata": {
        "colab": {
          "base_uri": "https://localhost:8080/",
          "height": 581
        },
        "id": "So5uk4EkHW6R",
        "outputId": "7585436d-9d8b-47b3-ad2d-a3a65da08ad5"
      },
      "outputs": [
        {
          "output_type": "execute_result",
          "data": {
            "text/plain": [
              "Text(0.5, 1.0, 'Test Accuracy')"
            ]
          },
          "metadata": {},
          "execution_count": 120
        },
        {
          "output_type": "display_data",
          "data": {
            "text/plain": [
              "<Figure size 1500x1000 with 4 Axes>"
            ],
            "image/png": "[encoded data removed]"
          },
          "metadata": {}
        }
      ],
      "source": [
        "train_losses = [t_items.item() for t_items in train_losses]\n",
        "plot_performance(train_losses, train_acc, test_losses, test_acc)"
      ]
    },
    {
      "cell_type": "code",
      "execution_count": 124,
      "metadata": {
        "id": "87z1Vh70dEKE",
        "colab": {
          "base_uri": "https://localhost:8080/"
        },
        "outputId": "169fd3fd-2af4-49eb-fde1-a412e93377ea"
      },
      "outputs": [
        {
          "output_type": "stream",
          "name": "stderr",
          "text": [
            "/usr/local/lib/python3.10/dist-packages/torch/utils/data/dataloader.py:558: UserWarning: This DataLoader will create 4 worker processes in total. Our suggested max number of worker in current system is 2, which is smaller than what this DataLoader is going to create. Please be aware that excessive worker creation might get DataLoader running slow or even freeze, lower the worker number to avoid potential slowness/freeze if necessary.\n",
            "  warnings.warn(_create_warning_msg(\n"
          ]
        }
      ],
      "source": [
        "model.eval()\n",
        "test_loss = 0\n",
        "correct = 0\n",
        "i =0\n",
        "misclassified_dict = []\n",
        "with torch.no_grad():\n",
        "    for data, target in test_loader:\n",
        "        data, target = data.to(device), target.to(device)\n",
        "        output = model(data)\n",
        "        test_loss += F.nll_loss(output, target, reduction='sum').item()  # sum up batch loss\n",
        "        pred = output.argmax(dim=1, keepdim=True)  # get the index of the max log-probability\n",
        "        t = pred.eq(target.view_as(pred)).view(-1, target.size(0))\n",
        "        t = t.cpu().numpy().reshape(-1)\n",
        "        for ind,val in enumerate(t):\n",
        "          if not val :\n",
        "            temp_dict = {}\n",
        "            temp_dict['data'] = data[ind].cpu().numpy()\n",
        "            temp_dict['target'] = target[ind]\n",
        "            temp_dict['pred'] = pred[ind]\n",
        "            misclassified_dict.append(temp_dict)"
      ]
    },
    {
      "cell_type": "code",
      "source": [
        "classes = ['plane', 'car', 'bird', 'cat', 'deer', 'dog', 'frog', 'horse', 'ship', 'truck']\n",
        "display_images = misclassified_dict[:10]\n",
        "index = 0\n",
        "fig = plt.figure(figsize=(10,5))\n",
        "for img in display_images:\n",
        "    image = img['data']\n",
        "    pred = classes[img['pred']]\n",
        "    actual = classes[img['target']]\n",
        "    ax = fig.add_subplot(2, 5, index+1)\n",
        "    ax.axis('off')\n",
        "    ax.set_title(f'\\n Predicted Label : {pred} \\n Target Label : {actual}',fontsize=10)\n",
        "    ax.imshow(np.transpose(image, (1, 2, 0)))\n",
        "    index = index + 1\n",
        "plt.show()"
      ],
      "metadata": {
        "colab": {
          "base_uri": "https://localhost:8080/",
          "height": 617
        },
        "id": "RG0q7x3ZNFu6",
        "outputId": "d5588bcd-cbe0-4523-dbea-7500d56b9501"
      },
      "execution_count": 132,
      "outputs": [
        {
          "output_type": "stream",
          "name": "stderr",
          "text": [
            "WARNING:matplotlib.image:Clipping input data to the valid range for imshow with RGB data ([0..1] for floats or [0..255] for integers).\n",
            "WARNING:matplotlib.image:Clipping input data to the valid range for imshow with RGB data ([0..1] for floats or [0..255] for integers).\n",
            "WARNING:matplotlib.image:Clipping input data to the valid range for imshow with RGB data ([0..1] for floats or [0..255] for integers).\n",
            "WARNING:matplotlib.image:Clipping input data to the valid range for imshow with RGB data ([0..1] for floats or [0..255] for integers).\n",
            "WARNING:matplotlib.image:Clipping input data to the valid range for imshow with RGB data ([0..1] for floats or [0..255] for integers).\n",
            "WARNING:matplotlib.image:Clipping input data to the valid range for imshow with RGB data ([0..1] for floats or [0..255] for integers).\n",
            "WARNING:matplotlib.image:Clipping input data to the valid range for imshow with RGB data ([0..1] for floats or [0..255] for integers).\n",
            "WARNING:matplotlib.image:Clipping input data to the valid range for imshow with RGB data ([0..1] for floats or [0..255] for integers).\n",
            "WARNING:matplotlib.image:Clipping input data to the valid range for imshow with RGB data ([0..1] for floats or [0..255] for integers).\n",
            "WARNING:matplotlib.image:Clipping input data to the valid range for imshow with RGB data ([0..1] for floats or [0..255] for integers).\n"
          ]
        },
        {
          "output_type": "display_data",
          "data": {
            "text/plain": [
              "<Figure size 1000x500 with 10 Axes>"
            ],
            "image/png": "[encoded data removed]"
          },
          "metadata": {}
        }
      ]
    },
    {
      "cell_type": "code",
      "execution_count": null,
      "metadata": {
        "id": "VCbwXFdIjhoa"
      },
      "outputs": [],
      "source": []
    }
  ],
  "metadata": {
    "accelerator": "GPU",
    "colab": {
      "gpuType": "T4",
      "provenance": []
    },
    "kernelspec": {
      "display_name": "Python 3",
      "name": "python3"
    }
  },
  "nbformat": 4,
  "nbformat_minor": 0
}